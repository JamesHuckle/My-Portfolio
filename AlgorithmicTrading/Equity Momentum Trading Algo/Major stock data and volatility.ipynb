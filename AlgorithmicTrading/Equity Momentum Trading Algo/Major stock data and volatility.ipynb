{
 "cells": [
  {
   "cell_type": "code",
   "execution_count": 1,
   "metadata": {
    "scrolled": false
   },
   "outputs": [
    {
     "name": "stderr",
     "output_type": "stream",
     "text": [
      "C:\\Users\\Jameshuckle\\Anaconda3\\lib\\site-packages\\statsmodels\\tools\\_testing.py:19: FutureWarning: pandas.util.testing is deprecated. Use the functions in the public API at pandas.testing instead.\n",
      "  import pandas.util.testing as tm\n"
     ]
    }
   ],
   "source": [
    "import bs4 as bs\n",
    "import datetime as dt\n",
    "import numpy as np\n",
    "import os\n",
    "import pandas as pd\n",
    "import requests\n",
    "import talib\n",
    "import matplotlib.pyplot as plt\n",
    "import yfinance as yf \n",
    "from IPython.display import display\n",
    "import seaborn as sns\n",
    "import sys\n",
    "\n",
    "sys.path.append(r'C:\\Users\\Jameshuckle\\Dropbox\\My-Portfolio\\AlgorithmicTrading\\utils')\n",
    "from data_util import (save_sp500_tickers)\n",
    "\n",
    "%matplotlib inline\n"
   ]
  },
  {
   "cell_type": "code",
   "execution_count": 6,
   "metadata": {},
   "outputs": [
    {
     "name": "stdout",
     "output_type": "stream",
     "text": [
      "[*********             19%                       ]  94 of 505 completed"
     ]
    },
    {
     "ename": "KeyboardInterrupt",
     "evalue": "",
     "output_type": "error",
     "traceback": [
      "\u001b[1;31m---------------------------------------------------------------------------\u001b[0m",
      "\u001b[1;31mKeyboardInterrupt\u001b[0m                         Traceback (most recent call last)",
      "\u001b[1;32m<ipython-input-6-80e9f9dc4fa6>\u001b[0m in \u001b[0;36m<module>\u001b[1;34m\u001b[0m\n\u001b[1;32m----> 1\u001b[1;33m \u001b[0mdata\u001b[0m \u001b[1;33m=\u001b[0m \u001b[0myf\u001b[0m\u001b[1;33m.\u001b[0m\u001b[0mdownload\u001b[0m\u001b[1;33m(\u001b[0m\u001b[0mlist\u001b[0m\u001b[1;33m(\u001b[0m\u001b[0msave_sp500_tickers\u001b[0m\u001b[1;33m(\u001b[0m\u001b[1;33m)\u001b[0m\u001b[1;33m.\u001b[0m\u001b[0mkeys\u001b[0m\u001b[1;33m(\u001b[0m\u001b[1;33m)\u001b[0m\u001b[1;33m)\u001b[0m\u001b[1;33m,\u001b[0m\u001b[1;34m'2018-08-01'\u001b[0m\u001b[1;33m,\u001b[0m\u001b[1;34m'2019-08-8'\u001b[0m\u001b[1;33m)\u001b[0m\u001b[1;33m\u001b[0m\u001b[1;33m\u001b[0m\u001b[0m\n\u001b[0m\u001b[0;32m      2\u001b[0m \u001b[0mdata\u001b[0m\u001b[1;33m\u001b[0m\u001b[1;33m\u001b[0m\u001b[0m\n",
      "\u001b[1;32m~\\Anaconda3\\lib\\site-packages\\yfinance\\multi.py\u001b[0m in \u001b[0;36mdownload\u001b[1;34m(tickers, start, end, actions, threads, group_by, auto_adjust, back_adjust, progress, period, interval, prepost, proxy, rounding, **kwargs)\u001b[0m\n\u001b[0;32m     93\u001b[0m                                    rounding=rounding)\n\u001b[0;32m     94\u001b[0m         \u001b[1;32mwhile\u001b[0m \u001b[0mlen\u001b[0m\u001b[1;33m(\u001b[0m\u001b[0mshared\u001b[0m\u001b[1;33m.\u001b[0m\u001b[0m_DFS\u001b[0m\u001b[1;33m)\u001b[0m \u001b[1;33m<\u001b[0m \u001b[0mlen\u001b[0m\u001b[1;33m(\u001b[0m\u001b[0mtickers\u001b[0m\u001b[1;33m)\u001b[0m\u001b[1;33m:\u001b[0m\u001b[1;33m\u001b[0m\u001b[1;33m\u001b[0m\u001b[0m\n\u001b[1;32m---> 95\u001b[1;33m             \u001b[0m_time\u001b[0m\u001b[1;33m.\u001b[0m\u001b[0msleep\u001b[0m\u001b[1;33m(\u001b[0m\u001b[1;36m0.01\u001b[0m\u001b[1;33m)\u001b[0m\u001b[1;33m\u001b[0m\u001b[1;33m\u001b[0m\u001b[0m\n\u001b[0m\u001b[0;32m     96\u001b[0m \u001b[1;33m\u001b[0m\u001b[0m\n\u001b[0;32m     97\u001b[0m     \u001b[1;31m# download synchronously\u001b[0m\u001b[1;33m\u001b[0m\u001b[1;33m\u001b[0m\u001b[1;33m\u001b[0m\u001b[0m\n",
      "\u001b[1;31mKeyboardInterrupt\u001b[0m: "
     ]
    }
   ],
   "source": [
    "data = yf.download(list(save_sp500_tickers().keys()),'2018-08-01','2019-08-8')\n",
    "data"
   ]
  },
  {
   "cell_type": "code",
   "execution_count": 30,
   "metadata": {
    "scrolled": true
   },
   "outputs": [],
   "source": [
    "def atr_threshold_plot(stock, last_month, atr_series, atr):\n",
    "    pick = pd.DataFrame(last_month[\"Close\"][stock])\n",
    "    pick['Low'] = last_month[\"Low\"][stock]\n",
    "    pick['High'] = last_month[\"High\"][stock]\n",
    "    pick['atr'] = atr_series\n",
    "    print(pick)\n",
    "    print(last_month[\"Close\"][stock].mean(),'atr',atr)\n",
    "\n",
    "def atr_threshold_filter(data, atr_threshold):\n",
    "    last_month = data.iloc[-61:]\n",
    "    last_month = last_month.ffill()\n",
    "    cols = last_month.columns\n",
    "    data_points = ['Open','High','Low','Close']\n",
    "    stocks = list(last_month.columns.levels[1])\n",
    "    atrs = {}\n",
    "    for stock in stocks:\n",
    "        #print(stock)\n",
    "        try:\n",
    "            atr_series = talib.ATR(\n",
    "                last_month[\"High\"][stock].values, \n",
    "                last_month[\"Low\"][stock].values, \n",
    "                last_month[\"Close\"][stock].values, \n",
    "                timeperiod=60)\n",
    "\n",
    "            # ATR is only created after 60 days of data, the first 59 are nans, so drop them\n",
    "            atr = atr_series[-1]\n",
    "#             if stock == 'III.L':\n",
    "#                 atr_threshold_plot(stock, last_month, atr_series, atr)\n",
    "            # Compare the ATR to the average stock price over the same time to get the expected % move\n",
    "            atr_percentage = round((atr / last_month[\"Close\"][stock].mean()) * 100,1)\n",
    "            # weekly atr is approximatly daily ATR * 2\n",
    "            weekly_atr_percentage = atr_percentage * 2\n",
    "        except Exception as e:\n",
    "            print(e)\n",
    "            weekly_atr_percentage = 0\n",
    "        weekly_atr_percentage = max(0,weekly_atr_percentage)\n",
    "        atrs[stock] = weekly_atr_percentage\n",
    "    atrs = dict(zip(atrs.keys(),atrs.values()))\n",
    "    keep_stocks = [stock for stock, atr in atrs.items() if atr > atr_threshold]\n",
    "    return keep_stocks, atrs\n",
    "\n",
    "# keep_stocks, sorted_atrs = atr_threshold_filter(data, 0.46)\n",
    "# keep_stocks"
   ]
  },
  {
   "cell_type": "code",
   "execution_count": 31,
   "metadata": {
    "scrolled": true
   },
   "outputs": [],
   "source": [
    "def calculate_corrs(close_data, keep_stocks):\n",
    "    final_data = close_data[keep_stocks]\n",
    "    raw_corrs = final_data.corr(method='pearson', min_periods=1)\n",
    "    corrs = raw_corrs.abs()\n",
    "    return raw_corrs, corrs\n",
    "\n",
    "#raw_corrs, corrs = calculate_corrs(data, keep_stocks)"
   ]
  },
  {
   "cell_type": "code",
   "execution_count": 32,
   "metadata": {},
   "outputs": [],
   "source": [
    "def display_correlation_from_list(raw_corrs_data, inspect_list):\n",
    "    manual_list = raw_corrs.loc[inspect_manual_list,inspect_manual_list]\n",
    "    display(inspect_list.abs().mean(axis=0).sort_values())\n",
    "    plt.figure(figsize=(12,8))\n",
    "    sns.heatmap(inspect_list, annot=True, cmap=\"PiYG\")\n",
    "\n",
    "inspect_list = ['ALB','LNT','AAL','APC','BR','CHRW','GPS','AIZ','COG']\n",
    "#display_correlation_from_list(raw_corrs, inspect_list)"
   ]
  },
  {
   "cell_type": "code",
   "execution_count": 33,
   "metadata": {
    "scrolled": true
   },
   "outputs": [],
   "source": [
    "def filter_final_correlations(corrs, corr_threshold):\n",
    "    avg_corrs = list(corrs.mean(axis=0).sort_values().index)\n",
    "    corrs2 = corrs[avg_corrs].copy()\n",
    "\n",
    "    already_ranked = []\n",
    "    dropped = []\n",
    "    for ticker in avg_corrs: ## loop through in order of least correlated\n",
    "        already_ranked.append(ticker)\n",
    "        if ticker in dropped:\n",
    "            continue\n",
    "        too_similar = list(corrs2[corrs2[ticker] > corr_threshold].index)\n",
    "        too_similar = [t for t in too_similar if t not in already_ranked]\n",
    "        if len(too_similar) > 0:\n",
    "            corrs2.drop(too_similar, axis=1, inplace=True)\n",
    "            corrs2.drop(too_similar, axis=0, inplace=True)\n",
    "            dropped += too_similar\n",
    "\n",
    "    stock_corr_df = corrs2[list(corrs2.index)]\n",
    "    \n",
    "    return stock_corr_df\n",
    "\n",
    "#stock_df = filter_final_correlations(corrs, corr_threshold = 0.6)"
   ]
  },
  {
   "cell_type": "code",
   "execution_count": 34,
   "metadata": {},
   "outputs": [],
   "source": [
    "def combine_close_data(list_of_dfs):\n",
    "    combined = list_of_dfs[0].join(list_of_dfs[1:])\n",
    "    return combined"
   ]
  },
  {
   "cell_type": "code",
   "execution_count": 35,
   "metadata": {},
   "outputs": [],
   "source": [
    "def assign_index_to_ticker(indices_names, known_tickers_list, atrs_list, final_tickers_list):\n",
    "    final_tickers = {}\n",
    "    for i in range(len(indices_names)):\n",
    "        index = indices_names[i]\n",
    "        known_tickers = known_tickers_list[i]\n",
    "        atrs = atrs_list[i]\n",
    "        dict_ticker_name = {ticker:name for ticker,name in known_tickers.items() \n",
    "                                       if ticker in final_tickers_list}\n",
    "        sorted_dict_ticker_name = {key:(dict_ticker_name[key],atrs[key]) for key in sorted(dict_ticker_name)}\n",
    "        final_tickers[index] = sorted_dict_ticker_name\n",
    "    return final_tickers"
   ]
  },
  {
   "cell_type": "code",
   "execution_count": 36,
   "metadata": {
    "scrolled": false
   },
   "outputs": [
    {
     "ename": "AttributeError",
     "evalue": "'dict_keys' object has no attribute 'replace'",
     "output_type": "error",
     "traceback": [
      "\u001b[1;31m---------------------------------------------------------------------------\u001b[0m",
      "\u001b[1;31mAttributeError\u001b[0m                            Traceback (most recent call last)",
      "\u001b[1;32m<ipython-input-36-04da03f07361>\u001b[0m in \u001b[0;36m<module>\u001b[1;34m()\u001b[0m\n\u001b[0;32m      4\u001b[0m \u001b[1;33m\u001b[0m\u001b[0m\n\u001b[0;32m      5\u001b[0m \u001b[0msp500_tickers\u001b[0m \u001b[1;33m=\u001b[0m \u001b[0msave_sp500_tickers\u001b[0m\u001b[1;33m(\u001b[0m\u001b[1;33m)\u001b[0m\u001b[1;33m\u001b[0m\u001b[0m\n\u001b[1;32m----> 6\u001b[1;33m \u001b[0msp500_data\u001b[0m \u001b[1;33m=\u001b[0m \u001b[0myf\u001b[0m\u001b[1;33m.\u001b[0m\u001b[0mdownload\u001b[0m\u001b[1;33m(\u001b[0m\u001b[0msp500_tickers\u001b[0m\u001b[1;33m.\u001b[0m\u001b[0mkeys\u001b[0m\u001b[1;33m(\u001b[0m\u001b[1;33m)\u001b[0m\u001b[1;33m,\u001b[0m\u001b[1;34m'2018-08-01'\u001b[0m\u001b[1;33m,\u001b[0m\u001b[1;34m'2019-08-8'\u001b[0m\u001b[1;33m)\u001b[0m\u001b[1;33m\u001b[0m\u001b[0m\n\u001b[0m\u001b[0;32m      7\u001b[0m \u001b[0msp500_keep_stocks\u001b[0m\u001b[1;33m,\u001b[0m \u001b[0msp500_atrs\u001b[0m \u001b[1;33m=\u001b[0m \u001b[0matr_threshold_filter\u001b[0m\u001b[1;33m(\u001b[0m\u001b[0msp500_data\u001b[0m\u001b[1;33m,\u001b[0m \u001b[0matr_threshold\u001b[0m \u001b[1;33m=\u001b[0m \u001b[1;36m4\u001b[0m\u001b[1;33m)\u001b[0m\u001b[1;33m\u001b[0m\u001b[0m\n\u001b[0;32m      8\u001b[0m \u001b[1;33m\u001b[0m\u001b[0m\n",
      "\u001b[1;32m~\\Anaconda3\\lib\\site-packages\\yfinance\\__init__.py\u001b[0m in \u001b[0;36mdownload\u001b[1;34m(tickers, start, end, actions, threads, group_by, auto_adjust, progress, period, interval, prepost, proxy, rounding, **kwargs)\u001b[0m\n\u001b[0;32m    592\u001b[0m     \u001b[1;31m# create ticker list\u001b[0m\u001b[1;33m\u001b[0m\u001b[1;33m\u001b[0m\u001b[0m\n\u001b[0;32m    593\u001b[0m     tickers = tickers if isinstance(\n\u001b[1;32m--> 594\u001b[1;33m         tickers, list) else tickers.replace(',', ' ').split()\n\u001b[0m\u001b[0;32m    595\u001b[0m     \u001b[0mtickers\u001b[0m \u001b[1;33m=\u001b[0m \u001b[0mlist\u001b[0m\u001b[1;33m(\u001b[0m\u001b[0mset\u001b[0m\u001b[1;33m(\u001b[0m\u001b[1;33m[\u001b[0m\u001b[0mticker\u001b[0m\u001b[1;33m.\u001b[0m\u001b[0mupper\u001b[0m\u001b[1;33m(\u001b[0m\u001b[1;33m)\u001b[0m \u001b[1;32mfor\u001b[0m \u001b[0mticker\u001b[0m \u001b[1;32min\u001b[0m \u001b[0mtickers\u001b[0m\u001b[1;33m]\u001b[0m\u001b[1;33m)\u001b[0m\u001b[1;33m)\u001b[0m\u001b[1;33m\u001b[0m\u001b[0m\n\u001b[0;32m    596\u001b[0m \u001b[1;33m\u001b[0m\u001b[0m\n",
      "\u001b[1;31mAttributeError\u001b[0m: 'dict_keys' object has no attribute 'replace'"
     ]
    }
   ],
   "source": [
    "# ftse100_tickers = save_ftse100_tickers()\n",
    "# ftse100_data = yf.download(ftse100_tickers.keys(),'2018-08-01','2019-08-8')\n",
    "# ftse100_keep_stocks, ftse100_atrs = atr_threshold_filter(ftse100_data, atr_threshold = 4)\n",
    "\n",
    "#sp500_tickers = save_sp500_tickers()\n",
    "#sp500_data = yf.download(sp500_tickers.keys(),'2018-08-01','2019-08-8')\n",
    "#sp500_keep_stocks, sp500_atrs = atr_threshold_filter(sp500_data, atr_threshold = 4)\n",
    "\n",
    "# russell2000_tickers = save_russell2000_tickers()\n",
    "# russell2000_data = yf.download(russell2000_tickers.keys(),'2018-08-01','2019-08-8')\n",
    "# russell2000_data\n",
    "#russell2000_keep_stocks, russell2000_atrs = atr_threshold_filter(russell2000_data, atr_threshold = 6)\n",
    "\n",
    "# combined = combine_close_data([ftse100_data.Close, sp500_data.Close])#, russell2000_data.Close])\n",
    "# raw_corrs, corrs = calculate_corrs(combined, ftse100_keep_stocks + sp500_keep_stocks)# + russell2000_keep_stocks)\n",
    "# stock_corr_df = filter_final_correlations(corrs, corr_threshold = 0.5)\n",
    "# display(stock_corr_df)\n",
    "# assign_index_to_ticker(['ftse100','sp500','russell2000'],\n",
    "#                              [ftse100_tickers, sp500_tickers, russell2000_tickers],\n",
    "#                              [ftse100_atrs, sp500_atrs, russell2000_atrs],\n",
    "#                              list(stock_corr_df.columns))"
   ]
  }
 ],
 "metadata": {
  "kernelspec": {
   "display_name": "Python 3",
   "language": "python",
   "name": "python3"
  },
  "language_info": {
   "codemirror_mode": {
    "name": "ipython",
    "version": 3
   },
   "file_extension": ".py",
   "mimetype": "text/x-python",
   "name": "python",
   "nbconvert_exporter": "python",
   "pygments_lexer": "ipython3",
   "version": "3.7.4"
  }
 },
 "nbformat": 4,
 "nbformat_minor": 2
}
