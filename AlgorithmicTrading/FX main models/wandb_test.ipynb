{
 "cells": [
  {
   "cell_type": "code",
   "execution_count": 2,
   "metadata": {
    "tags": [
     "active-ipynb"
    ]
   },
   "outputs": [
    {
     "name": "stdout",
     "output_type": "stream",
     "text": [
      "Create sweep with ID: ptyasqq7\n",
      "Sweep URL: https://wandb.ai/jameshuckle/timeseries/sweeps/ptyasqq7\n"
     ]
    },
    {
     "data": {
      "text/plain": [
       "'ptyasqq7'"
      ]
     },
     "execution_count": 2,
     "metadata": {},
     "output_type": "execute_result"
    }
   ],
   "source": [
    "import wandb\n",
    "\n",
    "sweep_config = {\n",
    "    'name': 'keras-1',\n",
    "    'program': 'wandb_test.py',\n",
    "    'method': 'random',\n",
    "    'metric': {\n",
    "        'name': 'val_loss',\n",
    "        'goal': 'minimize',\n",
    "    },\n",
    "    'parameters': {\n",
    "        'layers': {'values': [32, 64, 96]},\n",
    "        'epochs': {'values': [1, 2, 3, 4]},\n",
    "        'window_len': {'values': [100, 200, 400]},\n",
    "    }\n",
    "}\n",
    "\n",
    "sweep_id = wandb.sweep(sweep_config, project='timeseries')\n",
    "sweep_id"
   ]
  },
  {
   "cell_type": "code",
   "execution_count": 47,
   "metadata": {},
   "outputs": [],
   "source": [
    "#%%wandb\n",
    "\n",
    "def train():\n",
    "    import numpy as np\n",
    "    import tensorflow as tf\n",
    "    import wandb\n",
    "    config = {\n",
    "        'layers': 32,\n",
    "        'epochs': 2,\n",
    "        'window_len': 10,\n",
    "    }\n",
    "    wandb.init(config=config, magic=False)\n",
    "    # You can override values if you want\n",
    "    # wandb.config.update({'layers':1}, allow_val_change=True)\n",
    "\n",
    "    fashion_mnist = tf.keras.datasets.fashion_mnist\n",
    "    (train_images, train_labels), (test_images, test_labels) = fashion_mnist.load_data()\n",
    "    class_names = ['T-shirt/top', 'Trouser', 'Pullover', 'Dress', 'Coat',\n",
    "                   'Sandal', 'Shirt', 'Sneaker', 'Bag', 'Ankle boot']\n",
    "\n",
    "    train_images = train_images[:wandb.config.window_len]\n",
    "    train_labels = train_labels[:wandb.config.window_len]\n",
    "    train_images.shape\n",
    "    train_images = train_images / 255.0\n",
    "    test_images = test_images / 255.0\n",
    "\n",
    "    model = tf.keras.Sequential([\n",
    "        tf.keras.layers.Flatten(input_shape=(28, 28)),\n",
    "        tf.keras.layers.Dense(wandb.config.layers, activation=tf.nn.relu),\n",
    "        tf.keras.layers.Dense(10, activation=tf.nn.softmax)\n",
    "    ])\n",
    "\n",
    "    model.compile(optimizer='adam',\n",
    "                  loss='sparse_categorical_crossentropy',\n",
    "                  metrics=['accuracy'])\n",
    "    \n",
    "    model.fit(train_images, train_labels, epochs=wandb.config.epochs,\n",
    "                  validation_data=(test_images, test_labels), verbose=1)\n",
    "    \n",
    "    data = [[x, y] for (x, y) in zip(list(range(10)), np.random.random(10).cumsum().tolist())]\n",
    "    table = wandb.Table(data=data, columns = [\"x\", \"y\"])   \n",
    "    hist = model.history.history\n",
    "    metrics = {\n",
    "        'max_accuracy': max(hist['accuracy']),\n",
    "        'max_val_accuracy': max(hist['val_accuracy']),\n",
    "        'ROMAD': np.random.randint(-5,5),\n",
    "        'my_custom_plot_id': wandb.plot.line(table, \"x\", \"y\", title=\"Profit plot\"),\n",
    "    }\n",
    "    wandb.log(metrics)\n",
    "    \n",
    "if __name__ == '__main__':\n",
    "    train()"
   ]
  },
  {
   "cell_type": "code",
   "execution_count": 12,
   "metadata": {},
   "outputs": [
    {
     "name": "stdout",
     "output_type": "stream",
     "text": [
      "wandb: Agent Starting Run: k253vhe1 with config:\n",
      "\tlayers: 32\n"
     ]
    },
    {
     "name": "stderr",
     "output_type": "stream",
     "text": [
      "wandb: Ctrl-c pressed. Waiting for runs to end. Press ctrl-c again to terminate them.\n"
     ]
    }
   ],
   "source": [
    "#wandb.agent(sweep_id, function=train)"
   ]
  }
 ],
 "metadata": {
  "celltoolbar": "Tags",
  "jupytext": {
   "formats": "ipynb,py:light"
  },
  "kernelspec": {
   "display_name": "Python 3",
   "language": "python",
   "name": "python3"
  },
  "language_info": {
   "codemirror_mode": {
    "name": "ipython",
    "version": 3
   },
   "file_extension": ".py",
   "mimetype": "text/x-python",
   "name": "python",
   "nbconvert_exporter": "python",
   "pygments_lexer": "ipython3",
   "version": "3.7.4"
  }
 },
 "nbformat": 4,
 "nbformat_minor": 2
}
