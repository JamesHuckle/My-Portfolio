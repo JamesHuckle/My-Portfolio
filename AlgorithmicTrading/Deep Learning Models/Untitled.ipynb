{
 "cells": [
  {
   "cell_type": "code",
   "execution_count": 66,
   "metadata": {},
   "outputs": [],
   "source": [
    "import time\n",
    "import numpy as np\n",
    "from datetime import datetime, timedelta\n",
    "import shutil\n",
    "import pickle\n",
    "import copy\n",
    "import gc\n",
    "\n",
    "import pandas as pd\n",
    "pd.options.display.max_columns=100\n",
    "pd.options.display.max_rows=100\n",
    "\n",
    "import matplotlib.pyplot as plt\n",
    "%matplotlib inline\n",
    "\n",
    "import warnings\n",
    "warnings.filterwarnings(\"ignore\")"
   ]
  },
  {
   "cell_type": "code",
   "execution_count": 67,
   "metadata": {},
   "outputs": [],
   "source": [
    "import sys\n",
    "import os\n",
    "sys.path.append(f'{os.path.dirname(os.getcwd())}/utils')\n",
    "from data_util import (download_data_local_check, prep_stock_data, prep_fx_data, calc_sharpe)"
   ]
  },
  {
   "cell_type": "code",
   "execution_count": 65,
   "metadata": {},
   "outputs": [],
   "source": [
    "import tensorflow as tf\n",
    "#tf.compat.v1.disable_eager_execution()\n",
    "from tensorflow.keras import layers\n",
    "from tensorflow.keras import initializers\n",
    "from tensorflow.keras.regularizers import l1_l2"
   ]
  },
  {
   "cell_type": "code",
   "execution_count": null,
   "metadata": {},
   "outputs": [],
   "source": [
    "data_source = 'fx' # 'fx', 'stock'\n",
    "\n",
    "if data_source == 'fx':\n",
    "    ### FX data #######\n",
    "    fx_files = [\n",
    "                 'EURUSD_1h_2003-2020.csv',\n",
    "                 'GBPUSD_1h_2003-2020.csv',\n",
    "                 'USDJPY_1h_2003-2020.csv',\n",
    "                 'NZDUSD_1h_2003-2020.csv',\n",
    "                 'AUDUSD_1h_2003-2020.csv',\n",
    "                 'USDCAD_1h_2003-2020.csv',\n",
    "                 'USDCHF_1h_2003-2020.csv',\n",
    "                ]\n",
    "\n",
    "    loaded_files = prep_fx_data(fx_files)\n",
    "        \n",
    "if data_source == 'stock':\n",
    "    ### stock data ######\n",
    "    start = '2000-01-01'\n",
    "    end = '2020-11-1'\n",
    "    ## download data\n",
    "    all_stock_data = download_data_local_check('SP500', start, end)\n",
    "    loaded_files = prep_stock_data(all_stock_data, filter_start_date_tuple=None) #(2015,1,1)"
   ]
  },
  {
   "cell_type": "code",
   "execution_count": null,
   "metadata": {},
   "outputs": [],
   "source": [
    "# input tensor for a 3-channel 256x256 image\n",
    "x = tf.keras.model.Input(shape=(3, 256, 256))\n",
    "y = Convolution2D(3, 3, 3, border_mode='same')(x)\n",
    "# this returns x + y.\n",
    "z = layers.add([x, y], mode='sum')"
   ]
  }
 ],
 "metadata": {
  "kernelspec": {
   "display_name": "Python 3",
   "language": "python",
   "name": "python3"
  }
 },
 "nbformat": 4,
 "nbformat_minor": 2
}
