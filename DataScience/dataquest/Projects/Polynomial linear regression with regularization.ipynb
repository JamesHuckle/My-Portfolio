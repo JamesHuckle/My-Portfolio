{
 "cells": [
  {
   "cell_type": "code",
   "execution_count": 463,
   "metadata": {},
   "outputs": [],
   "source": [
    "import matplotlib.pyplot as plt\n",
    "%matplotlib inline\n",
    "import pandas as pd\n",
    "import numpy as np"
   ]
  },
  {
   "cell_type": "markdown",
   "metadata": {},
   "source": [
    "### Log(x) data with added noise"
   ]
  },
  {
   "cell_type": "code",
   "execution_count": 464,
   "metadata": {
    "scrolled": true
   },
   "outputs": [
    {
     "data": {
      "text/plain": [
       "<matplotlib.axes._subplots.AxesSubplot at 0x250c8064898>"
      ]
     },
     "execution_count": 464,
     "metadata": {},
     "output_type": "execute_result"
    },
    {
     "data": {
      "image/png": "[encoded data removed]",
      "text/plain": [
       "<Figure size 432x288 with 1 Axes>"
      ]
     },
     "metadata": {
      "needs_background": "light"
     },
     "output_type": "display_data"
    }
   ],
   "source": [
    "n_samples = 10\n",
    "\n",
    "np.random.seed(2)\n",
    "random_list = np.random.rand(n_samples)\n",
    "noise = pd.Series(random_list)\n",
    "noise -= np.mean(random_list)\n",
    "data = pd.DataFrame(list(range(1,n_samples + 1)),columns=['x1'])\n",
    "data['log_fit'] = np.log(data['x1'])\n",
    "data['y_values'] = data['log_fit'] + noise*2\n",
    "data.plot.scatter(x='x1', y='y_values')"
   ]
  },
  {
   "cell_type": "markdown",
   "metadata": {},
   "source": [
    "### Add polynomials"
   ]
  },
  {
   "cell_type": "code",
   "execution_count": 465,
   "metadata": {},
   "outputs": [],
   "source": [
    "data['x0'] = 1\n",
    "data['x2'] = data['x1']**2\n",
    "data['x3'] = data['x1']**3\n",
    "data['x4'] = data['x1']**4\n",
    "data['x5'] = data['x1']**5\n",
    "data['x6'] = data['x1']**6"
   ]
  },
  {
   "cell_type": "markdown",
   "metadata": {},
   "source": [
    "### Fit polynomial linear regression"
   ]
  },
  {
   "cell_type": "code",
   "execution_count": 466,
   "metadata": {
    "scrolled": true
   },
   "outputs": [
    {
     "data": {
      "text/plain": [
       "array([ 8.64555836e+00, -1.69561756e+01,  1.14012130e+01, -3.42006144e+00,\n",
       "        5.15196752e-01, -3.80477680e-02,  1.09576978e-03])"
      ]
     },
     "execution_count": 466,
     "metadata": {},
     "output_type": "execute_result"
    }
   ],
   "source": [
    "features = ['x0','x1','x2','x3','x4','x5','x6']\n",
    "X = data[features]\n",
    "y = data['y_values']\n",
    "\n",
    "X_transpose_X = X.transpose().dot(X)\n",
    "inverse = np.linalg.inv(X_transpose_X)\n",
    "X_transpose_y = X.transpose().dot(y)\n",
    "coeffs = inverse.dot(X_transpose_y)\n",
    "coeffs"
   ]
  },
  {
   "cell_type": "markdown",
   "metadata": {},
   "source": [
    "### Plot results (overfitting)"
   ]
  },
  {
   "cell_type": "code",
   "execution_count": 467,
   "metadata": {
    "scrolled": true
   },
   "outputs": [
    {
     "data": {
      "text/plain": [
       "<matplotlib.axes._subplots.AxesSubplot at 0x250c80b3630>"
      ]
     },
     "execution_count": 467,
     "metadata": {},
     "output_type": "execute_result"
    },
    {
     "data": {
      "image/png": "[encoded data removed]",
      "text/plain": [
       "<Figure size 432x288 with 1 Axes>"
      ]
     },
     "metadata": {
      "needs_background": "light"
     },
     "output_type": "display_data"
    }
   ],
   "source": [
    "data['polynomial_fit'] = X.dot(coeffs)\n",
    "ax = data.plot.scatter(x='x1', y='y_values')\n",
    "data.plot(x='x1',y='polynomial_fit', ax=ax, color='red')\n",
    "data.plot(x='x1',y= 'log_fit', ax=ax, color='orange')"
   ]
  },
  {
   "cell_type": "markdown",
   "metadata": {},
   "source": [
    "## Perform linear regression with normalisation\n",
    "coeffs = inverse(X_tranpose * X + lambda_rate * quasi_identity_matrix) * X_transpose * y"
   ]
  },
  {
   "cell_type": "markdown",
   "metadata": {},
   "source": [
    "### Create quasi identity matrix needs for matrix regularziation"
   ]
  },
  {
   "cell_type": "code",
   "execution_count": 468,
   "metadata": {},
   "outputs": [
    {
     "data": {
      "text/plain": [
       "array([[0., 0., 0., 0., 0., 0., 0.],\n",
       "       [0., 1., 0., 0., 0., 0., 0.],\n",
       "       [0., 0., 1., 0., 0., 0., 0.],\n",
       "       [0., 0., 0., 1., 0., 0., 0.],\n",
       "       [0., 0., 0., 0., 1., 0., 0.],\n",
       "       [0., 0., 0., 0., 0., 1., 0.],\n",
       "       [0., 0., 0., 0., 0., 0., 1.]])"
      ]
     },
     "execution_count": 468,
     "metadata": {},
     "output_type": "execute_result"
    }
   ],
   "source": [
    "identity = np.identity(len(features))\n",
    "identity[0,0] = 0\n",
    "identity"
   ]
  },
  {
   "cell_type": "markdown",
   "metadata": {},
   "source": [
    "### Fit polynomial with regularzation"
   ]
  },
  {
   "cell_type": "code",
   "execution_count": 469,
   "metadata": {
    "scrolled": true
   },
   "outputs": [
    {
     "data": {
      "text/plain": [
       "array([ 2.78896390e-01,  7.00432444e-03,  2.30863771e-02,  3.75370487e-02,\n",
       "       -1.05678040e-02,  1.02076407e-03, -3.44740655e-05])"
      ]
     },
     "execution_count": 469,
     "metadata": {},
     "output_type": "execute_result"
    }
   ],
   "source": [
    "lambda_regularise = 10 ** 2\n",
    "\n",
    "X_transpose_X = X.transpose().dot(X)\n",
    "inverse = np.linalg.inv(X_transpose_X + (lambda_regularise * identity))\n",
    "X_transpose_y = X.transpose().dot(y)\n",
    "coeffs = inverse.dot(X_transpose_y)\n",
    "coeffs"
   ]
  },
  {
   "cell_type": "markdown",
   "metadata": {},
   "source": [
    "### Plot results (better fit)"
   ]
  },
  {
   "cell_type": "code",
   "execution_count": 470,
   "metadata": {},
   "outputs": [
    {
     "data": {
      "text/plain": [
       "<matplotlib.axes._subplots.AxesSubplot at 0x250c811f6d8>"
      ]
     },
     "execution_count": 470,
     "metadata": {},
     "output_type": "execute_result"
    },
    {
     "data": {
      "image/png": "[encoded data removed]",
      "text/plain": [
       "<Figure size 432x288 with 1 Axes>"
      ]
     },
     "metadata": {
      "needs_background": "light"
     },
     "output_type": "display_data"
    }
   ],
   "source": [
    "data['polynomial_fit_regularised'] = X.dot(coeffs)\n",
    "ax = data.plot.scatter(x='x1', y='y_values')\n",
    "data.plot(x='x1',y='polynomial_fit', ax=ax, style='r--', alpha=0.3)\n",
    "data.plot(x='x1',y='polynomial_fit_regularised', ax=ax, color='green')\n",
    "data.plot(x='x1',y= 'log_fit', ax=ax, color='orange')"
   ]
  }
 ],
 "metadata": {
  "kernelspec": {
   "display_name": "Python 3",
   "language": "python",
   "name": "python3"
  },
  "language_info": {
   "codemirror_mode": {
    "name": "ipython",
    "version": 3
   },
   "file_extension": ".py",
   "mimetype": "text/x-python",
   "name": "python",
   "nbconvert_exporter": "python",
   "pygments_lexer": "ipython3",
   "version": "3.7.1"
  }
 },
 "nbformat": 4,
 "nbformat_minor": 2
}
