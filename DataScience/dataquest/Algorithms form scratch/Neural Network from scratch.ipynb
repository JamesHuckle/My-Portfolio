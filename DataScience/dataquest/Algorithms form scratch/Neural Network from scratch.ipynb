{
 "cells": [
  {
   "cell_type": "code",
   "execution_count": 1,
   "metadata": {},
   "outputs": [],
   "source": [
    "import numpy as np\n",
    "import pandas as pd\n",
    "import matplotlib.pyplot as plt\n",
    "%matplotlib inline\n",
    "\n",
    "import warnings\n",
    "warnings.filterwarnings('ignore')\n",
    "\n",
    "from sklearn.ensemble import RandomForestClassifier\n",
    "from sklearn.neighbors import KNeighborsClassifier\n",
    "from sklearn.neural_network import MLPClassifier\n",
    "from sklearn.metrics import accuracy_score\n",
    "from sklearn.datasets import load_digits\n",
    "from sklearn.model_selection import (train_test_split,\n",
    "                                    cross_val_score)"
   ]
  },
  {
   "cell_type": "code",
   "execution_count": 2,
   "metadata": {},
   "outputs": [],
   "source": [
    "data = load_digits(return_X_y=True)\n",
    "\n",
    "images = data[0]\n",
    "target = data[1]\n",
    "\n",
    "data = pd.DataFrame(images)\n",
    "data['target'] = target"
   ]
  },
  {
   "cell_type": "code",
   "execution_count": 3,
   "metadata": {
    "scrolled": true
   },
   "outputs": [
    {
     "data": {
      "text/plain": [
       "<matplotlib.image.AxesImage at 0x2c56fcce908>"
      ]
     },
     "execution_count": 3,
     "metadata": {},
     "output_type": "execute_result"
    },
    {
     "data": {
      "image/png": "[encoded data removed]",
      "text/plain": [
       "<Figure size 432x288 with 1 Axes>"
      ]
     },
     "metadata": {
      "needs_background": "light"
     },
     "output_type": "display_data"
    }
   ],
   "source": [
    "first_image = images[0].reshape(8,8)\n",
    "plt.imshow(first_image, cmap='gray_r')"
   ]
  },
  {
   "cell_type": "code",
   "execution_count": 4,
   "metadata": {},
   "outputs": [],
   "source": [
    "target = 'target'\n",
    "features = [col for col in data.columns if col != target]\n",
    "X_train, X_test, y_train, y_test = train_test_split(data[features], data[[target]], test_size=0.8, random_state=1)"
   ]
  },
  {
   "cell_type": "code",
   "execution_count": 98,
   "metadata": {},
   "outputs": [
    {
     "name": "stdout",
     "output_type": "stream",
     "text": [
      "      target\n",
      "410        4\n",
      "1654       2\n"
     ]
    },
    {
     "data": {
      "text/plain": [
       "[array([484.68881588, 353.96172485, 238.90482124, 422.68472195,\n",
       "        285.71733372, 425.71021585, 396.84256504, 413.41941875,\n",
       "        224.19971567, 247.5704537 ]),\n",
       " array([534.00535376, 388.38416665, 263.54974526, 474.94986917,\n",
       "        318.86559077, 463.01449374, 441.71826671, 454.7424958 ,\n",
       "        241.604782  , 286.7681014 ])]"
      ]
     },
     "execution_count": 98,
     "metadata": {},
     "output_type": "execute_result"
    }
   ],
   "source": [
    "class NeuralNetwork:\n",
    "    def __init__(self, hidden_layer_sizes, random_state=None):\n",
    "        np.random.seed(random_state)\n",
    "        self.hidden_layer_sizes = hidden_layer_sizes\n",
    "        \n",
    "    def fit(self, X, y):\n",
    "        self.X = X\n",
    "        self.y = pd.Series(y)\n",
    "        self.weights = []\n",
    "        self.biases = []\n",
    "        for idx in range(len(self.hidden_layer_sizes) + 1):\n",
    "            neurons = self.hidden_layer_sizes[idx] if idx < len(self.hidden_layer_sizes) else len(self.y.unique())\n",
    "            previous_neurons = self.X.shape[1] if idx == 0 else self.hidden_layer_sizes[idx-1]\n",
    "            self.weights.append(np.random.rand(neurons, previous_neurons))\n",
    "            self.biases.append(np.random.rand(1, neurons)[0])\n",
    "        self.output = np.zeros(len(self.y))\n",
    "    \n",
    "    def feed_forward(self, x):\n",
    "        x = np.array(x)\n",
    "        assert len(x.shape) >= 2\n",
    "        output = []\n",
    "        for row in x:\n",
    "            feed_forward_vector = None\n",
    "            for idx in range(len(self.weights)):\n",
    "                weight_layer = self.weights[idx]\n",
    "                bias_layer = self.biases[idx]\n",
    "                neurons = row if feed_forward_vector is None else feed_forward_vector\n",
    "                feed_forward_vector = weight_layer.dot(neurons) + bias_layer\n",
    "            output.append(feed_forward_vector)\n",
    "        return output\n",
    "    \n",
    "    def backpropegation(self):\n",
    "        \n",
    "        \n",
    "nn = NeuralNetwork(hidden_layer_sizes=(4,), random_state=1)\n",
    "nn.fit(X_train, y_train.values.ravel())\n",
    "print(y_train[:2])\n",
    "nn.feed_forward(X_train[:2])"
   ]
  }
 ],
 "metadata": {
  "kernelspec": {
   "display_name": "Python 3",
   "language": "python",
   "name": "python3"
  },
  "language_info": {
   "codemirror_mode": {
    "name": "ipython",
    "version": 3
   },
   "file_extension": ".py",
   "mimetype": "text/x-python",
   "name": "python",
   "nbconvert_exporter": "python",
   "pygments_lexer": "ipython3",
   "version": "3.6.9"
  }
 },
 "nbformat": 4,
 "nbformat_minor": 2
}
