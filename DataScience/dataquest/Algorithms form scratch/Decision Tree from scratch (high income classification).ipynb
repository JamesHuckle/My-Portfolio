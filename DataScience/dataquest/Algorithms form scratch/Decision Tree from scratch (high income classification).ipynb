{
 "cells": [
  {
   "cell_type": "code",
   "execution_count": 1,
   "metadata": {},
   "outputs": [],
   "source": [
    "import math\n",
    "import numpy as np\n",
    "import pandas as pd\n",
    "import matplotlib.pyplot as plt\n",
    "import scikitplot as skplt\n",
    "from sklearn.feature_selection import mutual_info_classif\n",
    "from sklearn.metrics import f1_score, confusion_matrix\n",
    "import scipy\n",
    "import itertools\n",
    "%matplotlib inline"
   ]
  },
  {
   "cell_type": "markdown",
   "metadata": {},
   "source": [
    "## Data Cleaning"
   ]
  },
  {
   "cell_type": "code",
   "execution_count": 2,
   "metadata": {
    "scrolled": true
   },
   "outputs": [
    {
     "data": {
      "text/html": [
       "<div>\n",
       "<style scoped>\n",
       "    .dataframe tbody tr th:only-of-type {\n",
       "        vertical-align: middle;\n",
       "    }\n",
       "\n",
       "    .dataframe tbody tr th {\n",
       "        vertical-align: top;\n",
       "    }\n",
       "\n",
       "    .dataframe thead th {\n",
       "        text-align: right;\n",
       "    }\n",
       "</style>\n",
       "<table border=\"1\" class=\"dataframe\">\n",
       "  <thead>\n",
       "    <tr style=\"text-align: right;\">\n",
       "      <th></th>\n",
       "      <th>age</th>\n",
       "      <th>workclass</th>\n",
       "      <th>education</th>\n",
       "      <th>education-num</th>\n",
       "      <th>marital-status</th>\n",
       "      <th>occupation</th>\n",
       "      <th>relationship</th>\n",
       "      <th>race</th>\n",
       "      <th>sex</th>\n",
       "      <th>capital-gain</th>\n",
       "      <th>capital-loss</th>\n",
       "      <th>hours-per-week</th>\n",
       "      <th>native-country</th>\n",
       "      <th>high-income</th>\n",
       "    </tr>\n",
       "  </thead>\n",
       "  <tbody>\n",
       "    <tr>\n",
       "      <th>0</th>\n",
       "      <td>39</td>\n",
       "      <td>State-gov</td>\n",
       "      <td>Bachelors</td>\n",
       "      <td>13</td>\n",
       "      <td>Never-married</td>\n",
       "      <td>Adm-clerical</td>\n",
       "      <td>Not-in-family</td>\n",
       "      <td>White</td>\n",
       "      <td>Male</td>\n",
       "      <td>2174</td>\n",
       "      <td>0</td>\n",
       "      <td>40</td>\n",
       "      <td>United-States</td>\n",
       "      <td>&lt;=50K</td>\n",
       "    </tr>\n",
       "    <tr>\n",
       "      <th>1</th>\n",
       "      <td>50</td>\n",
       "      <td>Self-emp-not-inc</td>\n",
       "      <td>Bachelors</td>\n",
       "      <td>13</td>\n",
       "      <td>Married-civ-spouse</td>\n",
       "      <td>Exec-managerial</td>\n",
       "      <td>Husband</td>\n",
       "      <td>White</td>\n",
       "      <td>Male</td>\n",
       "      <td>0</td>\n",
       "      <td>0</td>\n",
       "      <td>13</td>\n",
       "      <td>United-States</td>\n",
       "      <td>&lt;=50K</td>\n",
       "    </tr>\n",
       "    <tr>\n",
       "      <th>2</th>\n",
       "      <td>38</td>\n",
       "      <td>Private</td>\n",
       "      <td>HS-grad</td>\n",
       "      <td>9</td>\n",
       "      <td>Divorced</td>\n",
       "      <td>Handlers-cleaners</td>\n",
       "      <td>Not-in-family</td>\n",
       "      <td>White</td>\n",
       "      <td>Male</td>\n",
       "      <td>0</td>\n",
       "      <td>0</td>\n",
       "      <td>40</td>\n",
       "      <td>United-States</td>\n",
       "      <td>&lt;=50K</td>\n",
       "    </tr>\n",
       "    <tr>\n",
       "      <th>3</th>\n",
       "      <td>53</td>\n",
       "      <td>Private</td>\n",
       "      <td>11th</td>\n",
       "      <td>7</td>\n",
       "      <td>Married-civ-spouse</td>\n",
       "      <td>Handlers-cleaners</td>\n",
       "      <td>Husband</td>\n",
       "      <td>Black</td>\n",
       "      <td>Male</td>\n",
       "      <td>0</td>\n",
       "      <td>0</td>\n",
       "      <td>40</td>\n",
       "      <td>United-States</td>\n",
       "      <td>&lt;=50K</td>\n",
       "    </tr>\n",
       "    <tr>\n",
       "      <th>4</th>\n",
       "      <td>28</td>\n",
       "      <td>Private</td>\n",
       "      <td>Bachelors</td>\n",
       "      <td>13</td>\n",
       "      <td>Married-civ-spouse</td>\n",
       "      <td>Prof-specialty</td>\n",
       "      <td>Wife</td>\n",
       "      <td>Black</td>\n",
       "      <td>Female</td>\n",
       "      <td>0</td>\n",
       "      <td>0</td>\n",
       "      <td>40</td>\n",
       "      <td>Cuba</td>\n",
       "      <td>&lt;=50K</td>\n",
       "    </tr>\n",
       "  </tbody>\n",
       "</table>\n",
       "</div>"
      ],
      "text/plain": [
       "   age          workclass   education  education-num       marital-status  \\\n",
       "0   39          State-gov   Bachelors             13        Never-married   \n",
       "1   50   Self-emp-not-inc   Bachelors             13   Married-civ-spouse   \n",
       "2   38            Private     HS-grad              9             Divorced   \n",
       "3   53            Private        11th              7   Married-civ-spouse   \n",
       "4   28            Private   Bachelors             13   Married-civ-spouse   \n",
       "\n",
       "           occupation    relationship    race      sex  capital-gain  \\\n",
       "0        Adm-clerical   Not-in-family   White     Male          2174   \n",
       "1     Exec-managerial         Husband   White     Male             0   \n",
       "2   Handlers-cleaners   Not-in-family   White     Male             0   \n",
       "3   Handlers-cleaners         Husband   Black     Male             0   \n",
       "4      Prof-specialty            Wife   Black   Female             0   \n",
       "\n",
       "   capital-loss  hours-per-week  native-country high-income  \n",
       "0             0              40   United-States       <=50K  \n",
       "1             0              13   United-States       <=50K  \n",
       "2             0              40   United-States       <=50K  \n",
       "3             0              40   United-States       <=50K  \n",
       "4             0              40            Cuba       <=50K  "
      ]
     },
     "execution_count": 2,
     "metadata": {},
     "output_type": "execute_result"
    }
   ],
   "source": [
    "cols = 'age workclass fnlwgt education education-num marital-status occupation relationship race sex ' \\\n",
    "       'capital-gain capital-loss hours-per-week native-country high-income'.split(' ')\n",
    "data = pd.read_csv('../data/adult.data', names=cols)\n",
    "data.drop('fnlwgt',axis='columns',inplace=True)\n",
    "data.head(5)"
   ]
  },
  {
   "cell_type": "code",
   "execution_count": 3,
   "metadata": {},
   "outputs": [],
   "source": [
    "# Remove leading and trailing whitespace\n",
    "cols = ['workclass', 'education', 'marital-status','occupation', 'relationship', 'race', 'sex', 'native-country',\n",
    "       'education','high-income']\n",
    "for col in cols:\n",
    "    data[col] = data[col].str.strip()\n",
    "    \n",
    "# Convert target column to binary\n",
    "data['high-income'] = data['high-income'].replace({'<=50K':0,'>50K':1})\n",
    "data['high-income'].value_counts()\n",
    "\n",
    "# Convert ordinal columns into numerical\n",
    "mapping = {\n",
    "    'Preschool':1,\n",
    "    '1st-4th':1,\n",
    "    '5th-6th':1,\n",
    "    '7th-8th':1,\n",
    "    '9th':1,\n",
    "    '10th':1,\n",
    "    '11th':1,\n",
    "    '12th':1,\n",
    "    'HS-grad':2,\n",
    "    'Some-college':2,\n",
    "    'Assoc-voc':2,\n",
    "    'Assoc-acdm':2,\n",
    "    'Bachelors':3,\n",
    "    'Masters':4,\n",
    "    'Prof-school':4,\n",
    "    'Doctorate':4,\n",
    "}\n",
    "data['education'] = data['education'].replace(mapping)\n",
    "\n",
    "# Create dummy columns for catagorical columns\n",
    "data = pd.get_dummies(data, columns=['workclass', 'marital-status','occupation',\n",
    "                                     'relationship', 'race', 'sex', 'native-country'])\n",
    "for col in data.columns:\n",
    "    data[col] = pd.to_numeric(data[col])\n",
    "    \n",
    "# Bucket any columns with more than 10 unique values\n",
    "for col in data.columns:\n",
    "    unique = data[col].unique()\n",
    "    if len(unique) > 10:\n",
    "        cuts = list(pd.cut(data[col],bins=10).values)\n",
    "        data[col] = pd.Series([val.right for val in cuts])"
   ]
  },
  {
   "cell_type": "markdown",
   "metadata": {},
   "source": [
    "## Decision Tree Functions\n",
    "ID3 algorithm (continuous data only)\n",
    "\n",
    "Pseudocode:  \n",
    "1) Create a root node for the tree.    \n",
    "2) If the target column is pure, assign the 100% probability to the dominent target value.  \n",
    "3) If there is only one unique value in all feature columns, no further splits can be done, so return target probabilities.    \n",
    "4) Else, calculate the informtaion gain (using entropy) for a split on every unique value in every feature column.  \n",
    "** Left split is <= value, right split is > value. All values are continuous in nature to achieve this, even if binary.      \n",
    "a) Find the feature/value that yeilded the highest information gain.    \n",
    "5) Compare the best feature/value information gain against the entire nodes information gain.   \n",
    "a) If the best feature/value split does not an yeild information gain > 0, then return target probabilities for the node.    \n",
    "5) Split the data using and create a node for each split.  \n",
    "6) Recursivly run 2-5 until every node cannot be split further according to 2 & 3, and thus become leaf node with probabilities.    \n"
   ]
  },
  {
   "cell_type": "code",
   "execution_count": 4,
   "metadata": {},
   "outputs": [],
   "source": [
    "class Node:\n",
    "    def __init__(self):\n",
    "        self.pred_proba = None\n",
    "        self.col = None\n",
    "        self.value = None\n",
    "        self.left = None\n",
    "        self.right = None\n",
    "        self.class_sizes = None\n",
    "        \n",
    "    def set_proba(self, proba_0, proba_1):\n",
    "        self.pred_proba = [proba_0, proba_1]\n",
    "    \n",
    "    def set_split(self, col, value, left_size, right_size):\n",
    "        self.class_sizes = [left_size, right_size]\n",
    "        self.col = col\n",
    "        self.value = value\n",
    "        \n",
    "    def asdict(self):\n",
    "        return {'pred_proba': self.pred_proba, 'col': self.col, 'value': self.value, 'class_sizes': self.class_sizes,\n",
    "                'left': self.left, 'right': self.right}\n",
    "    \n",
    "    def __repr__(self):\n",
    "        return str(self.asdict())\n",
    "     \n",
    "        \n",
    "class ScratchDecisionTree:\n",
    "    def __init__(self, max_depth=5):\n",
    "        self.root = Node()\n",
    "        self.max_depth = max_depth\n",
    "    \n",
    "    def fit(self, data_features, data_target):\n",
    "        target_col = data_target.name\n",
    "        data = pd.concat([data_features, data_target], axis='columns')\n",
    "        create_branches(data, target_col, self.root, -1, self.max_depth)\n",
    "    \n",
    "    def traverse(self, row, node):\n",
    "        if node.col:\n",
    "            if row[node.col] <= node.value:\n",
    "                return self.traverse(row, node.left)\n",
    "            elif row[node.col] > node.value:\n",
    "                return self.traverse(row, node.right)\n",
    "        else:\n",
    "            return node.pred_proba\n",
    "    \n",
    "    def predict_proba(self, data):\n",
    "        predictions = data.apply(self.traverse, args=(self.root,), axis='columns')\n",
    "        return np.array([np.array(p) for p in predictions.values])\n",
    "    \n",
    "    def predict(self, data, threshold=0.5):\n",
    "        preds = self.predict_proba(data)\n",
    "        return [int(p0 <= 0.5) for p0, p1 in preds]"
   ]
  },
  {
   "cell_type": "code",
   "execution_count": 5,
   "metadata": {},
   "outputs": [
    {
     "data": {
      "text/plain": [
       "True"
      ]
     },
     "execution_count": 5,
     "metadata": {},
     "output_type": "execute_result"
    }
   ],
   "source": [
    "def entropy(data, target, base=2):\n",
    "    probabilities = data[target].value_counts(normalize=True)\n",
    "    if len(probabilities) == 1:\n",
    "        return 0\n",
    "    prob_0 = probabilities[0]\n",
    "    prob_1 = probabilities[1]\n",
    "    prob_0_calc = prob_0 * math.log(prob_0, base)\n",
    "    prob_1_calc = prob_1 * math.log(prob_1, base)\n",
    "    entropy = sum([prob_0_calc, prob_1_calc])\n",
    "    return -entropy\n",
    "\n",
    "# Test function against scipy function\n",
    "entropy(data, 'high-income') == scipy.stats.entropy(data['high-income'].value_counts(normalize=True), base=2)"
   ]
  },
  {
   "cell_type": "code",
   "execution_count": 6,
   "metadata": {
    "scrolled": true
   },
   "outputs": [
    {
     "data": {
      "text/plain": [
       "0.07069368427626688"
      ]
     },
     "execution_count": 6,
     "metadata": {},
     "output_type": "execute_result"
    }
   ],
   "source": [
    "def information_gain(data, col_name, split_value):\n",
    "    total_len = len(data)\n",
    "    below_eq = data[data[col_name] <= split_value]\n",
    "    above = data[data[col_name] > split_value]\n",
    "    \n",
    "    node_entropy = entropy(data, 'high-income')\n",
    "    below_eq_entropy = entropy(below_eq, 'high-income')\n",
    "    above_entropy = entropy(above, 'high-income')\n",
    "    \n",
    "    below_eq_weight = len(below_eq) / total_len\n",
    "    above_weight = len(above) / total_len\n",
    "\n",
    "    # An information gain larger that 0 means that we will gain information post split\n",
    "    information = node_entropy - ((below_eq_weight * below_eq_entropy) + (above_weight * above_entropy))\n",
    "    return information\n",
    "\n",
    "information_gain(data, 'education', 2)"
   ]
  },
  {
   "cell_type": "code",
   "execution_count": 7,
   "metadata": {},
   "outputs": [],
   "source": [
    "def predict_proba(target_col):\n",
    "    unique_values = target_col.value_counts().to_dict()\n",
    "    if len(unique_values) == 1:\n",
    "        result = 0 if list(unique_values.keys())[0] == 0 else 1\n",
    "        proba_0 = 1 if result == 0 else 0\n",
    "        proba_1 = 1 if result == 1 else 0\n",
    "    else:\n",
    "        proba_0 = (target_col == 0).sum() / len(target_col)\n",
    "        proba_1 = (target_col == 1).sum() / len(target_col)\n",
    "    return proba_0, proba_1\n",
    "   \n",
    "    \n",
    "def best_split(data, target):\n",
    "    feature_cols = [col for col in data.columns if col != target]\n",
    "    gains = []\n",
    "    for col in feature_cols:\n",
    "        unique_values = sorted(data[col].unique())[:-1] \n",
    "        for value in unique_values:\n",
    "            gains.append({'feature':col, 'split_value':value, 'info_gain':information_gain(data, col, value)})\n",
    "    if len(gains) == 0:\n",
    "        return None, None, 0\n",
    "    else:\n",
    "        gains = pd.DataFrame(gains).sort_values('info_gain',ascending=False)\n",
    "        col, value, info_gain = gains.to_dict('records')[0].values()\n",
    "        return col, value, info_gain\n",
    "\n",
    "\n",
    "def create_branches(data, target, node, depth, max_depth):\n",
    "    proba_0, proba_1 = predict_proba(data[target])\n",
    "    node.set_proba(proba_0, proba_1)\n",
    "    depth +=1\n",
    "    if depth >= max_depth:\n",
    "        return\n",
    "    if proba_0 in [0,1]:\n",
    "        #print('Target column is pure')\n",
    "        return\n",
    "    else:\n",
    "        col, value, info_gain = best_split(data, target)\n",
    "        if info_gain <= 0:\n",
    "            #print('Info gain is below 0')\n",
    "            return\n",
    "        else:\n",
    "            left_data = data[data[col] <= value]\n",
    "            right_data = data[data[col] > value]\n",
    "            node.set_split(col, value, len(left_data), len(right_data))\n",
    "            node.left = Node()\n",
    "            node.right = Node()\n",
    "            create_branches(left_data, target, node.left, depth, max_depth)\n",
    "            create_branches(right_data, target, node.right, depth, max_depth)\n",
    "    return"
   ]
  },
  {
   "cell_type": "markdown",
   "metadata": {},
   "source": [
    "## Model Parameters"
   ]
  },
  {
   "cell_type": "code",
   "execution_count": 8,
   "metadata": {},
   "outputs": [],
   "source": [
    "target = 'high-income'\n",
    "features = [col for col in data.columns if col != target]\n",
    "max_depth = 5"
   ]
  },
  {
   "cell_type": "markdown",
   "metadata": {},
   "source": [
    "## Train Model"
   ]
  },
  {
   "cell_type": "code",
   "execution_count": 9,
   "metadata": {},
   "outputs": [],
   "source": [
    "my_tree = ScratchDecisionTree(max_depth=max_depth)\n",
    "my_tree.fit(data[features], data[target])"
   ]
  },
  {
   "cell_type": "markdown",
   "metadata": {},
   "source": [
    "## Evaluate Model"
   ]
  },
  {
   "cell_type": "code",
   "execution_count": 10,
   "metadata": {
    "scrolled": true
   },
   "outputs": [],
   "source": [
    "#my_tree.root.left"
   ]
  },
  {
   "cell_type": "code",
   "execution_count": 11,
   "metadata": {
    "scrolled": false
   },
   "outputs": [
    {
     "name": "stdout",
     "output_type": "stream",
     "text": [
      "f1_score: 0.56\n"
     ]
    },
    {
     "data": {
      "text/plain": [
       "<matplotlib.axes._subplots.AxesSubplot at 0x22201f1ffd0>"
      ]
     },
     "execution_count": 11,
     "metadata": {},
     "output_type": "execute_result"
    },
    {
     "data": {
      "image/png": "[encoded data removed]",
      "text/plain": [
       "<Figure size 432x288 with 1 Axes>"
      ]
     },
     "metadata": {
      "needs_background": "light"
     },
     "output_type": "display_data"
    },
    {
     "data": {
      "image/png": "[encoded data removed]",
      "text/plain": [
       "<Figure size 432x288 with 2 Axes>"
      ]
     },
     "metadata": {
      "needs_background": "light"
     },
     "output_type": "display_data"
    }
   ],
   "source": [
    "scratch_predictions = my_tree.predict_proba(data[features])\n",
    "scratch_binary_predictions = my_tree.predict(data[features])\n",
    "\n",
    "skplt.metrics.plot_precision_recall(data[target].values, scratch_predictions)\n",
    "score = f1_score(data[target].values, scratch_binary_predictions)\n",
    "print('f1_score:',round(score, 2))\n",
    "skplt.metrics.plot_confusion_matrix(data[target].values, scratch_binary_predictions)"
   ]
  },
  {
   "cell_type": "markdown",
   "metadata": {},
   "source": [
    "## Comparison to sklearn"
   ]
  },
  {
   "cell_type": "code",
   "execution_count": 12,
   "metadata": {},
   "outputs": [
    {
     "name": "stdout",
     "output_type": "stream",
     "text": [
      "f1_score: 0.56\n"
     ]
    },
    {
     "data": {
      "text/plain": [
       "<matplotlib.axes._subplots.AxesSubplot at 0x2220010d780>"
      ]
     },
     "execution_count": 12,
     "metadata": {},
     "output_type": "execute_result"
    },
    {
     "data": {
      "image/png": "[encoded data removed]",
      "text/plain": [
       "<Figure size 432x288 with 1 Axes>"
      ]
     },
     "metadata": {
      "needs_background": "light"
     },
     "output_type": "display_data"
    },
    {
     "data": {
      "image/png": "[encoded data removed]",
      "text/plain": [
       "<Figure size 432x288 with 2 Axes>"
      ]
     },
     "metadata": {
      "needs_background": "light"
     },
     "output_type": "display_data"
    }
   ],
   "source": [
    "from sklearn.tree import DecisionTreeClassifier\n",
    "tree = DecisionTreeClassifier(max_depth= max_depth)\n",
    "tree.fit(data[features], data[target])\n",
    "sklearn_predictions = tree.predict_proba(data[features])\n",
    "sklearn_binary_predictions = tree.predict(data[features])\n",
    "\n",
    "skplt.metrics.plot_precision_recall(data[target].values, sklearn_predictions)\n",
    "score = f1_score(data[target].values, sklearn_binary_predictions)\n",
    "print('f1_score:',round(score, 2))\n",
    "skplt.metrics.plot_confusion_matrix(data[target].values, sklearn_binary_predictions)"
   ]
  }
 ],
 "metadata": {
  "kernelspec": {
   "display_name": "Python 3",
   "language": "python",
   "name": "python3"
  },
  "language_info": {
   "codemirror_mode": {
    "name": "ipython",
    "version": 3
   },
   "file_extension": ".py",
   "mimetype": "text/x-python",
   "name": "python",
   "nbconvert_exporter": "python",
   "pygments_lexer": "ipython3",
   "version": "3.7.1"
  }
 },
 "nbformat": 4,
 "nbformat_minor": 2
}
