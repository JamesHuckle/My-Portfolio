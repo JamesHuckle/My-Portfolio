{
 "cells": [
  {
   "cell_type": "markdown",
   "metadata": {},
   "source": [
    "## Imports and Settings"
   ]
  },
  {
   "cell_type": "code",
   "execution_count": 1,
   "metadata": {},
   "outputs": [],
   "source": [
    "import warnings\n",
    "warnings.filterwarnings('ignore')"
   ]
  },
  {
   "cell_type": "code",
   "execution_count": 2,
   "metadata": {},
   "outputs": [],
   "source": [
    "%matplotlib inline\n",
    "from pathlib import Path\n",
    "from time import time\n",
    "from collections import deque\n",
    "from datetime import datetime\n",
    "from random import sample\n",
    "import pickle\n",
    "\n",
    "import numpy as np\n",
    "import pandas as pd\n",
    "\n",
    "import matplotlib.pyplot as plt\n",
    "from matplotlib.ticker import FuncFormatter\n",
    "import seaborn as sns\n",
    "sns.set_style('whitegrid')\n",
    "\n",
    "import tensorflow as tf\n",
    "from tensorflow.keras import Sequential\n",
    "from tensorflow.keras.layers import Dense, Dropout\n",
    "from tensorflow.keras.optimizers import Adam\n",
    "from tensorflow.keras.regularizers import l2\n",
    "import tensorflow.keras.backend as K\n",
    "tf.compat.v1.disable_eager_execution()\n",
    "\n",
    "import gym\n",
    "from gym.envs.registration import register"
   ]
  },
  {
   "cell_type": "code",
   "execution_count": 3,
   "metadata": {},
   "outputs": [],
   "source": [
    "np.random.seed(42)\n",
    "tf.random.set_seed(42)"
   ]
  },
  {
   "cell_type": "code",
   "execution_count": 4,
   "metadata": {},
   "outputs": [
    {
     "name": "stdout",
     "output_type": "stream",
     "text": [
      "Using GPU\n"
     ]
    }
   ],
   "source": [
    "gpu_devices = tf.config.experimental.list_physical_devices('GPU')\n",
    "if gpu_devices:\n",
    "    print('Using GPU')\n",
    "    tf.config.experimental.set_memory_growth(gpu_devices[0], True)\n",
    "else:\n",
    "    print('Using CPU')"
   ]
  },
  {
   "cell_type": "markdown",
   "metadata": {},
   "source": [
    "### Helper functions"
   ]
  },
  {
   "cell_type": "code",
   "execution_count": 5,
   "metadata": {},
   "outputs": [],
   "source": [
    "def format_time(t):\n",
    "    m_, s = divmod(t, 60)\n",
    "    h, m = divmod(m_, 60)\n",
    "    return '{:02.0f}:{:02.0f}:{:02.0f}'.format(h, m, s)"
   ]
  },
  {
   "cell_type": "markdown",
   "metadata": {},
   "source": [
    "## Set up Gym Environment"
   ]
  },
  {
   "cell_type": "code",
   "execution_count": 6,
   "metadata": {},
   "outputs": [],
   "source": [
    "trading_days = 252"
   ]
  },
  {
   "cell_type": "code",
   "execution_count": 7,
   "metadata": {},
   "outputs": [],
   "source": [
    "register(\n",
    "    id='trading-v0',\n",
    "    entry_point='trading_env:TradingEnvironment',\n",
    "    max_episode_steps=trading_days,\n",
    "    kwargs={'trading_days': 252,\n",
    "            'trading_cost_bps': 1e-3,\n",
    "            'time_cost_bps': 1e-4,\n",
    "            'ticker': 'MSFT'}\n",
    ")"
   ]
  },
  {
   "cell_type": "markdown",
   "metadata": {},
   "source": [
    "### Initialize Trading Environment"
   ]
  },
  {
   "cell_type": "code",
   "execution_count": 8,
   "metadata": {
    "scrolled": true
   },
   "outputs": [
    {
     "name": "stderr",
     "output_type": "stream",
     "text": [
      "2020-11-16 18:24:25,513 INFO     trading_env logger started\n",
      "2020-11-16 18:24:25,514 INFO     loading data for MSFT...\n"
     ]
    },
    {
     "name": "stdout",
     "output_type": "stream",
     "text": [
      "data already saved C:\\Users\\Jameshuckle\\Dropbox\\My-Portfolio\\DataScience/data\\SP500_all_stock_data_2000-01-01-2020-11-1.csv\n",
      "[*********************100%***********************]  1 of 1 completed"
     ]
    },
    {
     "name": "stderr",
     "output_type": "stream",
     "text": [
      "2020-11-16 18:24:25,928 INFO     got data for MSFT...\n",
      "2020-11-16 18:24:25,949 INFO     None\n"
     ]
    },
    {
     "name": "stdout",
     "output_type": "stream",
     "text": [
      "\n",
      "<class 'pandas.core.frame.DataFrame'>\n",
      "DatetimeIndex: 5209 entries, 2000-02-18 to 2020-10-30\n",
      "Data columns (total 10 columns):\n",
      " #   Column   Non-Null Count  Dtype  \n",
      "---  ------   --------------  -----  \n",
      " 0   returns  5209 non-null   float64\n",
      " 1   ret_2    5209 non-null   float64\n",
      " 2   ret_5    5209 non-null   float64\n",
      " 3   ret_10   5209 non-null   float64\n",
      " 4   ret_21   5209 non-null   float64\n",
      " 5   rsi      5209 non-null   float64\n",
      " 6   macd     5209 non-null   float64\n",
      " 7   atr      5209 non-null   float64\n",
      " 8   stoch    5209 non-null   float64\n",
      " 9   ultosc   5209 non-null   float64\n",
      "dtypes: float64(10)\n",
      "memory usage: 447.6 KB\n"
     ]
    },
    {
     "data": {
      "text/plain": [
       "[42]"
      ]
     },
     "execution_count": 8,
     "metadata": {},
     "output_type": "execute_result"
    }
   ],
   "source": [
    "trading_environment = gym.make('trading-v0')\n",
    "trading_environment.seed(42)"
   ]
  },
  {
   "cell_type": "code",
   "execution_count": 29,
   "metadata": {},
   "outputs": [],
   "source": [
    "#trading_environment.env.data_source.load_data()[['high','low','close']].plot()"
   ]
  },
  {
   "cell_type": "markdown",
   "metadata": {},
   "source": [
    "### Get Environment params"
   ]
  },
  {
   "cell_type": "code",
   "execution_count": 19,
   "metadata": {},
   "outputs": [],
   "source": [
    "state_dim = trading_environment.observation_space.shape[0]\n",
    "num_actions = trading_environment.action_space.n\n",
    "max_episode_steps = trading_environment.spec.max_episode_steps"
   ]
  },
  {
   "cell_type": "markdown",
   "metadata": {},
   "source": [
    "## Define Trading Agent"
   ]
  },
  {
   "cell_type": "code",
   "execution_count": 20,
   "metadata": {},
   "outputs": [],
   "source": [
    "class DDQNAgent:\n",
    "    def __init__(self, state_dim, num_actions, learning_rate, gamma, epsilon_start,\n",
    "                 epsilon_end, epsilon_decay_steps, epsilon_exponential_decay, replay_capacity,\n",
    "                 architecture, l2_reg, tau, batch_size, train):\n",
    "        \n",
    "        self.state_dim = state_dim\n",
    "        self.num_actions = num_actions\n",
    "        self.experience = deque([], maxlen=replay_capacity)\n",
    "        self.learning_rate = learning_rate\n",
    "        self.gamma = gamma\n",
    "        self.architecture = architecture\n",
    "        self.l2_reg = l2_reg\n",
    "        \n",
    "        self.online_network = self.build_model()\n",
    "        self.target_network = self.build_model(trainable=False)\n",
    "        self.update_target()\n",
    "        \n",
    "        self.epsilon = epsilon_start\n",
    "        self.epsilon_decay_steps = epsilon_decay_steps\n",
    "        self.epsilon_decay = (epsilon_start - epsilon_end) / epsilon_decay_steps\n",
    "        self.epsilon_exponential_decay = epsilon_exponential_decay\n",
    "        self.epsilon_history = []\n",
    "        \n",
    "        self.total_steps = self.train_steps = 0\n",
    "        self.episodes = self.episode_length = self.train_episodes = 0\n",
    "        self.steps_per_episode = []\n",
    "        self.episode_reward = 0\n",
    "        self.rewards_history = []\n",
    "        \n",
    "        self.batch_size = batch_size\n",
    "        self.tau = tau\n",
    "        self.losses = []\n",
    "        self.idx = tf.range(batch_size)\n",
    "        self.train = train\n",
    "        \n",
    "    \n",
    "    def build_model(self, trainable=True):\n",
    "        layers = []\n",
    "        n = len(self.architecture)\n",
    "        for i, units in enumerate(self.architecture, 1):\n",
    "            layers.append(Dense(units=units,\n",
    "                                input_dim=self.state_dim if i == 1 else None,\n",
    "                                activation='relu',\n",
    "                                kernel_regularizer=l2(self.l2_reg),\n",
    "                                name=f'Dense_{i}',\n",
    "                                trainable=trainable))\n",
    "        layers.append(Dropout(.1))\n",
    "        layers.append(Dense(units=self.num_actions,\n",
    "                            trainable=trainable,\n",
    "                            name='Output'))\n",
    "        model = Sequential(layers)\n",
    "        model.compile(loss='mean_squared_error',\n",
    "                      optimizer=Adam(lr=self.learning_rate))\n",
    "        return model\n",
    "    \n",
    "    def update_target(self):\n",
    "        self.target_network.set_weights(self.online_network.get_weights())\n",
    "\n",
    "    def epsilon_greedy_policy(self, state):\n",
    "        self.total_steps += 1\n",
    "        if np.random.rand() <= self.epsilon:\n",
    "            return np.random.choice(self.num_actions)\n",
    "        q = self.online_network.predict(state)\n",
    "        return np.argmax(q, axis=1).squeeze()\n",
    "\n",
    "    def memorize_transition(self, s, a, r, s_prime, not_done):\n",
    "        if not_done:\n",
    "            self.episode_reward += r\n",
    "            self.episode_length += 1\n",
    "        else:\n",
    "            if self.train:\n",
    "                if self.episodes < self.epsilon_decay_steps:\n",
    "                    self.epsilon -= self.epsilon_decay\n",
    "                else:\n",
    "                    self.epsilon *= self.epsilon_exponential_decay\n",
    "\n",
    "            self.episodes += 1\n",
    "            self.rewards_history.append(self.episode_reward)\n",
    "            self.steps_per_episode.append(self.episode_length)\n",
    "            self.episode_reward, self.episode_length = 0, 0\n",
    "\n",
    "        self.experience.append((s, a, r, s_prime, not_done))\n",
    "\n",
    "    def experience_replay(self):\n",
    "        if self.batch_size > len(self.experience):\n",
    "            return\n",
    "        minibatch = map(np.array, zip(*sample(self.experience, self.batch_size)))\n",
    "        #minibatch = (np.array(i) for i in sample(self.experience, self.batch_size))\n",
    "        states, actions, rewards, next_states, not_done = minibatch\n",
    "\n",
    "        next_q_values = self.online_network.predict_on_batch(next_states)\n",
    "        # best_actions = tf.argmax(next_q_values, axis=1) # original slow eager exc\n",
    "        best_actions = np.argmax(next_q_values, axis=1)\n",
    "\n",
    "        next_q_values_target = self.target_network.predict_on_batch(next_states)\n",
    "        #  target_q_values = tf.gather_nd(\n",
    "        #            next_q_values_target,\n",
    "        #            tf.stack((self.idx, tf.cast(best_actions, tf.int32)), axis=1)) # original slow eacher exc\n",
    "        target_q_values = next_q_values_target[range(len(next_q_values_target)), best_actions]\n",
    "\n",
    "        targets = rewards + not_done * self.gamma * target_q_values\n",
    "\n",
    "        q_values = self.online_network.predict_on_batch(states)\n",
    "        #q_values[tuple([self.idx, actions])] = targets # original slow eager exc\n",
    "        q_values[tuple([range(self.batch_size), actions])] = targets\n",
    "\n",
    "        loss = self.online_network.train_on_batch(x=states, y=q_values)\n",
    "        self.losses.append(loss)\n",
    "\n",
    "        if self.total_steps % self.tau == 0:\n",
    "            self.update_target()"
   ]
  },
  {
   "cell_type": "markdown",
   "metadata": {},
   "source": [
    "## Define hyperparameters"
   ]
  },
  {
   "cell_type": "code",
   "execution_count": 21,
   "metadata": {},
   "outputs": [],
   "source": [
    "gamma = .99 # discount factor\n",
    "tau = 100 # target network update frequency\n",
    "\n",
    "### NN Architecture\n",
    "architecture = (256, 256) # units per layer\n",
    "learning_rate = 1e-4 \n",
    "l2_reg = 1e-6\n",
    "\n",
    "### Experience Replay\n",
    "replay_capacity = int(1e6)\n",
    "batch_size = 4096\n",
    "\n",
    "### e-greedy Policy\n",
    "epsilon_start = 1.0\n",
    "epsilon_end = .01\n",
    "epsilon_decay_steps = 250\n",
    "epsilon_exponential_decay = .99"
   ]
  },
  {
   "cell_type": "markdown",
   "metadata": {},
   "source": [
    "## Create DDQN Agent (TF)"
   ]
  },
  {
   "cell_type": "code",
   "execution_count": 22,
   "metadata": {},
   "outputs": [],
   "source": [
    "tf.keras.backend.clear_session()\n",
    "\n",
    "train = False #set to False to test ddqn\n",
    "ddqn = DDQNAgent(state_dim=state_dim,\n",
    "                 num_actions=num_actions,\n",
    "                 learning_rate=learning_rate,\n",
    "                 gamma=gamma,\n",
    "                 epsilon_start=epsilon_start,\n",
    "                 epsilon_end=epsilon_end,\n",
    "                 epsilon_decay_steps=epsilon_decay_steps,\n",
    "                 epsilon_exponential_decay=epsilon_exponential_decay,\n",
    "                 replay_capacity=replay_capacity,\n",
    "                 architecture=architecture,\n",
    "                 l2_reg=l2_reg,\n",
    "                 tau=tau,\n",
    "                 batch_size=batch_size,\n",
    "                 train=train)"
   ]
  },
  {
   "cell_type": "code",
   "execution_count": 23,
   "metadata": {},
   "outputs": [
    {
     "name": "stdout",
     "output_type": "stream",
     "text": [
      ">>> loading weights\n"
     ]
    }
   ],
   "source": [
    "load_weights = True\n",
    "\n",
    "if ddqn.train == False or load_weights:\n",
    "    print('>>> loading weights')\n",
    "    ddqn.online_network.load_weights(\n",
    "        f'./results/trading_bot_2020-11-16_17-37/model_weights/model_weights')\n",
    "    ddqn.update_target()\n",
    "    if ddqn.train == False:\n",
    "        ddqn.epsilon = 0"
   ]
  },
  {
   "cell_type": "code",
   "execution_count": 24,
   "metadata": {},
   "outputs": [],
   "source": [
    "#ddqn.online_network.summary()"
   ]
  },
  {
   "cell_type": "markdown",
   "metadata": {},
   "source": [
    "## Run Experiment"
   ]
  },
  {
   "cell_type": "markdown",
   "metadata": {},
   "source": [
    "### Set parameters"
   ]
  },
  {
   "cell_type": "code",
   "execution_count": 25,
   "metadata": {},
   "outputs": [],
   "source": [
    "total_steps = 0\n",
    "max_episodes = 1000\n",
    "\n",
    "### Initialize variables\n",
    "episode_time, navs, market_navs, diffs, episode_eps = [], [], [], [], []"
   ]
  },
  {
   "cell_type": "markdown",
   "metadata": {},
   "source": [
    "## Visualization"
   ]
  },
  {
   "cell_type": "code",
   "execution_count": 26,
   "metadata": {},
   "outputs": [],
   "source": [
    "def track_results(episode, nav_ma_100, nav_ma_10, market_nav_100, market_nav_10,\n",
    "                  win_ratio, total, epsilon):\n",
    "    time_ma = np.mean([episode_time[-100:]])\n",
    "    T = np.sum(episode_time)\n",
    "    \n",
    "    template = (f'{episode:>4d} | {format_time(total)} | '\n",
    "                f'Agent: {nav_ma_100-1:>6.1%} ({nav_ma_10-1:>6.1%}) | '\n",
    "                f'Market: {market_nav_100-1:>6.1%} ({market_nav_10-1:>6.1%}) | '\n",
    "                f'Wins: {win_ratio:>5.1%} | eps: {epsilon:>6.3f}')\n",
    "    print(template)"
   ]
  },
  {
   "cell_type": "markdown",
   "metadata": {},
   "source": [
    "### Train Agent"
   ]
  },
  {
   "cell_type": "code",
   "execution_count": 27,
   "metadata": {},
   "outputs": [
    {
     "name": "stdout",
     "output_type": "stream",
     "text": [
      "  10 | 00:00:03 | Agent:  -4.9% ( -4.9%) | Market:  25.6% ( 25.6%) | Wins:  0.0% | eps:  0.000\n",
      "  20 | 00:00:07 | Agent:   3.2% ( 11.3%) | Market:  23.7% ( 21.8%) | Wins: 10.0% | eps:  0.000\n",
      "  30 | 00:00:10 | Agent:  -1.5% (-10.9%) | Market:  19.3% ( 10.5%) | Wins: 10.0% | eps:  0.000\n",
      "  40 | 00:00:14 | Agent:  -1.8% ( -2.7%) | Market:  14.2% ( -1.3%) | Wins: 15.0% | eps:  0.000\n",
      "  50 | 00:00:17 | Agent:  -2.2% ( -4.0%) | Market:  10.1% ( -5.9%) | Wins: 24.0% | eps:  0.000\n",
      "  60 | 00:00:21 | Agent:  -1.8% (  0.3%) | Market:   9.2% (  4.6%) | Wins: 26.7% | eps:  0.000\n",
      "  70 | 00:00:24 | Agent:  -1.4% (  1.1%) | Market:   8.7% (  5.6%) | Wins: 27.1% | eps:  0.000\n",
      "  80 | 00:00:28 | Agent:  -1.1% (  1.1%) | Market:   8.3% (  5.5%) | Wins: 27.5% | eps:  0.000\n",
      "  90 | 00:00:31 | Agent:  -2.0% ( -9.3%) | Market:   8.7% ( 11.7%) | Wins: 26.7% | eps:  0.000\n",
      " 100 | 00:00:35 | Agent:  -2.3% ( -5.3%) | Market:   8.1% (  3.0%) | Wins: 26.0% | eps:  0.000\n",
      " 110 | 00:00:38 | Agent:  -2.4% ( -5.4%) | Market:   7.6% ( 20.1%) | Wins: 27.0% | eps:  0.000\n",
      " 120 | 00:00:41 | Agent:  -3.6% ( -0.6%) | Market:   5.7% (  3.1%) | Wins: 28.0% | eps:  0.000\n",
      " 130 | 00:00:45 | Agent:  -4.0% (-15.5%) | Market:   4.9% (  2.6%) | Wins: 29.0% | eps:  0.000\n",
      " 140 | 00:00:48 | Agent:  -5.3% (-15.8%) | Market:   6.1% ( 10.7%) | Wins: 26.0% | eps:  0.000\n",
      " 150 | 00:00:52 | Agent:  -4.4% (  5.4%) | Market:   8.8% ( 21.2%) | Wins: 23.0% | eps:  0.000\n",
      " 160 | 00:00:55 | Agent:  -5.3% ( -8.7%) | Market:   8.7% (  3.8%) | Wins: 22.0% | eps:  0.000\n",
      " 170 | 00:00:59 | Agent:  -6.8% (-14.1%) | Market:   8.7% (  5.6%) | Wins: 21.0% | eps:  0.000\n",
      " 180 | 00:01:03 | Agent:  -8.1% (-11.3%) | Market:   9.3% ( 11.4%) | Wins: 18.0% | eps:  0.000\n",
      " 190 | 00:01:06 | Agent:  -8.6% (-15.0%) | Market:   9.2% ( 10.3%) | Wins: 18.0% | eps:  0.000\n",
      " 200 | 00:01:10 | Agent:  -9.0% ( -9.4%) | Market:  10.8% ( 18.8%) | Wins: 16.0% | eps:  0.000\n",
      " 210 | 00:01:13 | Agent:  -9.7% (-11.7%) | Market:   9.3% (  5.4%) | Wins: 17.0% | eps:  0.000\n",
      " 220 | 00:01:17 | Agent: -10.4% ( -7.7%) | Market:   9.8% (  8.3%) | Wins: 17.0% | eps:  0.000\n",
      " 230 | 00:01:20 | Agent:  -8.9% ( -0.6%) | Market:  11.9% ( 23.9%) | Wins: 16.0% | eps:  0.000\n",
      " 240 | 00:01:24 | Agent:  -8.3% ( -9.5%) | Market:  12.4% ( 15.3%) | Wins: 17.0% | eps:  0.000\n",
      " 250 | 00:01:27 | Agent:  -9.4% ( -6.2%) | Market:  10.4% (  0.8%) | Wins: 17.0% | eps:  0.000\n",
      " 260 | 00:01:31 | Agent:  -8.2% (  3.8%) | Market:  11.4% ( 13.7%) | Wins: 16.0% | eps:  0.000\n",
      " 270 | 00:01:34 | Agent:  -6.5% (  2.6%) | Market:  12.0% ( 12.1%) | Wins: 16.0% | eps:  0.000\n",
      " 280 | 00:01:38 | Agent:  -6.5% (-11.0%) | Market:  11.5% (  6.3%) | Wins: 18.0% | eps:  0.000\n",
      " 290 | 00:01:41 | Agent:  -6.1% (-10.8%) | Market:  11.9% ( 14.5%) | Wins: 16.0% | eps:  0.000\n",
      " 300 | 00:01:45 | Agent:  -4.5% (  5.8%) | Market:  11.2% ( 11.8%) | Wins: 19.0% | eps:  0.000\n",
      " 310 | 00:01:49 | Agent:  -4.2% ( -8.4%) | Market:  12.1% ( 14.0%) | Wins: 19.0% | eps:  0.000\n",
      " 320 | 00:01:53 | Agent:  -3.8% ( -3.9%) | Market:  10.7% ( -6.0%) | Wins: 21.0% | eps:  0.000\n",
      " 330 | 00:01:56 | Agent:  -3.7% (  0.7%) | Market:   9.6% ( 13.6%) | Wins: 23.0% | eps:  0.000\n",
      " 340 | 00:01:60 | Agent:  -4.5% (-17.1%) | Market:   9.4% ( 13.0%) | Wins: 24.0% | eps:  0.000\n",
      " 350 | 00:02:03 | Agent:  -4.3% ( -4.1%) | Market:  11.4% ( 20.7%) | Wins: 23.0% | eps:  0.000\n",
      " 360 | 00:02:07 | Agent:  -6.3% (-16.4%) | Market:  10.6% (  5.9%) | Wins: 22.0% | eps:  0.000\n",
      " 370 | 00:02:10 | Agent:  -7.3% ( -7.8%) | Market:  11.4% ( 20.3%) | Wins: 21.0% | eps:  0.000\n",
      " 380 | 00:02:14 | Agent:  -6.9% ( -6.9%) | Market:  11.1% (  3.3%) | Wins: 21.0% | eps:  0.000\n",
      " 390 | 00:02:17 | Agent:  -5.0% (  8.4%) | Market:  11.3% ( 16.6%) | Wins: 24.0% | eps:  0.000\n",
      " 400 | 00:02:21 | Agent:  -6.1% ( -5.6%) | Market:  10.6% (  4.8%) | Wins: 24.0% | eps:  0.000\n",
      " 410 | 00:02:24 | Agent:  -7.5% (-22.0%) | Market:  10.6% ( 14.3%) | Wins: 23.0% | eps:  0.000\n",
      " 420 | 00:02:27 | Agent:  -8.1% (-10.3%) | Market:  12.1% (  9.0%) | Wins: 20.0% | eps:  0.000\n",
      " 430 | 00:02:31 | Agent:  -8.4% ( -2.4%) | Market:  12.1% ( 12.7%) | Wins: 21.0% | eps:  0.000\n",
      " 440 | 00:02:34 | Agent:  -8.0% (-13.4%) | Market:  11.9% ( 11.2%) | Wins: 20.0% | eps:  0.000\n",
      " 450 | 00:02:38 | Agent:  -8.0% ( -3.7%) | Market:  11.1% ( 12.7%) | Wins: 20.0% | eps:  0.000\n",
      " 460 | 00:02:42 | Agent:  -7.9% (-15.7%) | Market:  11.5% ( 10.1%) | Wins: 20.0% | eps:  0.000\n",
      " 470 | 00:02:45 | Agent:  -8.9% (-18.0%) | Market:  10.7% ( 12.4%) | Wins: 20.0% | eps:  0.000\n",
      " 480 | 00:02:49 | Agent:  -9.4% (-11.0%) | Market:  11.3% (  9.2%) | Wins: 20.0% | eps:  0.000\n",
      " 490 | 00:02:54 | Agent: -10.2% (  0.1%) | Market:  11.7% ( 20.8%) | Wins: 18.0% | eps:  0.000\n",
      " 500 | 00:02:57 | Agent: -10.0% ( -4.1%) | Market:  11.4% (  2.1%) | Wins: 18.0% | eps:  0.000\n",
      " 510 | 00:03:01 | Agent:  -8.3% ( -4.9%) | Market:  10.9% (  9.2%) | Wins: 19.0% | eps:  0.000\n",
      " 520 | 00:03:04 | Agent:  -8.8% (-14.7%) | Market:  10.7% (  6.5%) | Wins: 19.0% | eps:  0.000\n",
      " 530 | 00:03:08 | Agent: -10.3% (-17.7%) | Market:  10.0% (  5.7%) | Wins: 17.0% | eps:  0.000\n",
      " 540 | 00:03:11 | Agent: -11.3% (-23.4%) | Market:   9.5% (  6.0%) | Wins: 17.0% | eps:  0.000\n",
      " 550 | 00:03:15 | Agent: -12.0% (-10.4%) | Market:   9.1% (  8.5%) | Wins: 16.0% | eps:  0.000\n",
      " 560 | 00:03:18 | Agent: -11.8% (-13.6%) | Market:   7.9% ( -1.4%) | Wins: 18.0% | eps:  0.000\n",
      " 570 | 00:03:21 | Agent: -11.3% (-12.9%) | Market:   7.1% (  4.2%) | Wins: 19.0% | eps:  0.000\n",
      " 580 | 00:03:25 | Agent: -11.2% (-10.2%) | Market:   8.2% ( 20.5%) | Wins: 18.0% | eps:  0.000\n",
      " 590 | 00:03:28 | Agent: -12.0% ( -7.8%) | Market:   7.5% ( 13.9%) | Wins: 18.0% | eps:  0.000\n",
      " 600 | 00:03:31 | Agent: -12.6% (-10.7%) | Market:   8.7% ( 14.0%) | Wins: 17.0% | eps:  0.000\n",
      " 610 | 00:03:35 | Agent: -12.8% ( -6.6%) | Market:   8.9% ( 11.3%) | Wins: 16.0% | eps:  0.000\n",
      " 620 | 00:03:38 | Agent: -12.6% (-13.1%) | Market:   8.7% (  3.9%) | Wins: 16.0% | eps:  0.000\n",
      " 630 | 00:03:41 | Agent: -10.8% (  0.8%) | Market:   9.1% ( 10.4%) | Wins: 17.0% | eps:  0.000\n",
      " 640 | 00:03:45 | Agent:  -9.4% ( -9.6%) | Market:   8.2% ( -3.5%) | Wins: 20.0% | eps:  0.000\n",
      " 650 | 00:03:48 | Agent:  -9.5% (-10.9%) | Market:   8.9% ( 15.4%) | Wins: 19.0% | eps:  0.000\n",
      " 660 | 00:03:52 | Agent:  -9.0% ( -8.6%) | Market:  10.8% ( 17.6%) | Wins: 17.0% | eps:  0.000\n",
      " 670 | 00:03:56 | Agent:  -9.3% (-16.1%) | Market:  12.1% ( 17.0%) | Wins: 16.0% | eps:  0.000\n",
      " 680 | 00:03:59 | Agent:  -9.9% (-15.9%) | Market:  11.0% ( 10.2%) | Wins: 16.0% | eps:  0.000\n",
      " 690 | 00:04:02 | Agent: -10.2% (-11.2%) | Market:   9.6% ( -0.1%) | Wins: 17.0% | eps:  0.000\n",
      " 700 | 00:04:06 | Agent:  -8.6% (  5.4%) | Market:   8.6% (  3.8%) | Wins: 18.0% | eps:  0.000\n",
      " 710 | 00:04:09 | Agent:  -8.0% ( -0.6%) | Market:   9.7% ( 22.4%) | Wins: 18.0% | eps:  0.000\n",
      " 720 | 00:04:12 | Agent:  -7.8% (-11.3%) | Market:   9.1% ( -2.1%) | Wins: 19.0% | eps:  0.000\n",
      " 730 | 00:04:16 | Agent:  -8.9% (-10.4%) | Market:   8.7% (  5.9%) | Wins: 18.0% | eps:  0.000\n",
      " 740 | 00:04:19 | Agent:  -8.3% ( -3.1%) | Market:   9.1% (  0.6%) | Wins: 18.0% | eps:  0.000\n",
      "WARNING:tensorflow:Unresolved object in checkpoint: (root).optimizer.iter\n"
     ]
    },
    {
     "name": "stderr",
     "output_type": "stream",
     "text": [
      "2020-11-16 19:09:24,173 WARNING  Unresolved object in checkpoint: (root).optimizer.iter\n"
     ]
    },
    {
     "name": "stdout",
     "output_type": "stream",
     "text": [
      "WARNING:tensorflow:Unresolved object in checkpoint: (root).optimizer.beta_1\n"
     ]
    },
    {
     "name": "stderr",
     "output_type": "stream",
     "text": [
      "2020-11-16 19:09:24,175 WARNING  Unresolved object in checkpoint: (root).optimizer.beta_1\n"
     ]
    },
    {
     "name": "stdout",
     "output_type": "stream",
     "text": [
      "WARNING:tensorflow:Unresolved object in checkpoint: (root).optimizer.beta_2\n"
     ]
    },
    {
     "name": "stderr",
     "output_type": "stream",
     "text": [
      "2020-11-16 19:09:24,176 WARNING  Unresolved object in checkpoint: (root).optimizer.beta_2\n"
     ]
    },
    {
     "name": "stdout",
     "output_type": "stream",
     "text": [
      "WARNING:tensorflow:Unresolved object in checkpoint: (root).optimizer.decay\n"
     ]
    },
    {
     "name": "stderr",
     "output_type": "stream",
     "text": [
      "2020-11-16 19:09:24,178 WARNING  Unresolved object in checkpoint: (root).optimizer.decay\n"
     ]
    },
    {
     "name": "stdout",
     "output_type": "stream",
     "text": [
      "WARNING:tensorflow:Unresolved object in checkpoint: (root).optimizer.learning_rate\n"
     ]
    },
    {
     "name": "stderr",
     "output_type": "stream",
     "text": [
      "2020-11-16 19:09:24,179 WARNING  Unresolved object in checkpoint: (root).optimizer.learning_rate\n"
     ]
    },
    {
     "name": "stdout",
     "output_type": "stream",
     "text": [
      "WARNING:tensorflow:Unresolved object in checkpoint: (root).optimizer's state 'm' for (root).layer_with_weights-0.kernel\n"
     ]
    },
    {
     "name": "stderr",
     "output_type": "stream",
     "text": [
      "2020-11-16 19:09:24,180 WARNING  Unresolved object in checkpoint: (root).optimizer's state 'm' for (root).layer_with_weights-0.kernel\n"
     ]
    },
    {
     "name": "stdout",
     "output_type": "stream",
     "text": [
      "WARNING:tensorflow:Unresolved object in checkpoint: (root).optimizer's state 'm' for (root).layer_with_weights-0.bias\n"
     ]
    },
    {
     "name": "stderr",
     "output_type": "stream",
     "text": [
      "2020-11-16 19:09:24,181 WARNING  Unresolved object in checkpoint: (root).optimizer's state 'm' for (root).layer_with_weights-0.bias\n"
     ]
    },
    {
     "name": "stdout",
     "output_type": "stream",
     "text": [
      "WARNING:tensorflow:Unresolved object in checkpoint: (root).optimizer's state 'm' for (root).layer_with_weights-1.kernel\n"
     ]
    },
    {
     "name": "stderr",
     "output_type": "stream",
     "text": [
      "2020-11-16 19:09:24,181 WARNING  Unresolved object in checkpoint: (root).optimizer's state 'm' for (root).layer_with_weights-1.kernel\n"
     ]
    },
    {
     "name": "stdout",
     "output_type": "stream",
     "text": [
      "WARNING:tensorflow:Unresolved object in checkpoint: (root).optimizer's state 'm' for (root).layer_with_weights-1.bias\n"
     ]
    },
    {
     "name": "stderr",
     "output_type": "stream",
     "text": [
      "2020-11-16 19:09:24,182 WARNING  Unresolved object in checkpoint: (root).optimizer's state 'm' for (root).layer_with_weights-1.bias\n"
     ]
    },
    {
     "name": "stdout",
     "output_type": "stream",
     "text": [
      "WARNING:tensorflow:Unresolved object in checkpoint: (root).optimizer's state 'm' for (root).layer_with_weights-2.kernel\n"
     ]
    },
    {
     "name": "stderr",
     "output_type": "stream",
     "text": [
      "2020-11-16 19:09:24,183 WARNING  Unresolved object in checkpoint: (root).optimizer's state 'm' for (root).layer_with_weights-2.kernel\n"
     ]
    },
    {
     "name": "stdout",
     "output_type": "stream",
     "text": [
      "WARNING:tensorflow:Unresolved object in checkpoint: (root).optimizer's state 'm' for (root).layer_with_weights-2.bias\n"
     ]
    },
    {
     "name": "stderr",
     "output_type": "stream",
     "text": [
      "2020-11-16 19:09:24,185 WARNING  Unresolved object in checkpoint: (root).optimizer's state 'm' for (root).layer_with_weights-2.bias\n"
     ]
    },
    {
     "name": "stdout",
     "output_type": "stream",
     "text": [
      "WARNING:tensorflow:Unresolved object in checkpoint: (root).optimizer's state 'v' for (root).layer_with_weights-0.kernel\n"
     ]
    },
    {
     "name": "stderr",
     "output_type": "stream",
     "text": [
      "2020-11-16 19:09:24,186 WARNING  Unresolved object in checkpoint: (root).optimizer's state 'v' for (root).layer_with_weights-0.kernel\n"
     ]
    },
    {
     "name": "stdout",
     "output_type": "stream",
     "text": [
      "WARNING:tensorflow:Unresolved object in checkpoint: (root).optimizer's state 'v' for (root).layer_with_weights-0.bias\n"
     ]
    },
    {
     "name": "stderr",
     "output_type": "stream",
     "text": [
      "2020-11-16 19:09:24,187 WARNING  Unresolved object in checkpoint: (root).optimizer's state 'v' for (root).layer_with_weights-0.bias\n"
     ]
    },
    {
     "name": "stdout",
     "output_type": "stream",
     "text": [
      "WARNING:tensorflow:Unresolved object in checkpoint: (root).optimizer's state 'v' for (root).layer_with_weights-1.kernel\n"
     ]
    },
    {
     "name": "stderr",
     "output_type": "stream",
     "text": [
      "2020-11-16 19:09:24,188 WARNING  Unresolved object in checkpoint: (root).optimizer's state 'v' for (root).layer_with_weights-1.kernel\n"
     ]
    },
    {
     "name": "stdout",
     "output_type": "stream",
     "text": [
      "WARNING:tensorflow:Unresolved object in checkpoint: (root).optimizer's state 'v' for (root).layer_with_weights-1.bias\n"
     ]
    },
    {
     "name": "stderr",
     "output_type": "stream",
     "text": [
      "2020-11-16 19:09:24,190 WARNING  Unresolved object in checkpoint: (root).optimizer's state 'v' for (root).layer_with_weights-1.bias\n"
     ]
    },
    {
     "name": "stdout",
     "output_type": "stream",
     "text": [
      "WARNING:tensorflow:Unresolved object in checkpoint: (root).optimizer's state 'v' for (root).layer_with_weights-2.kernel\n"
     ]
    },
    {
     "name": "stderr",
     "output_type": "stream",
     "text": [
      "2020-11-16 19:09:24,191 WARNING  Unresolved object in checkpoint: (root).optimizer's state 'v' for (root).layer_with_weights-2.kernel\n"
     ]
    },
    {
     "name": "stdout",
     "output_type": "stream",
     "text": [
      "WARNING:tensorflow:Unresolved object in checkpoint: (root).optimizer's state 'v' for (root).layer_with_weights-2.bias\n"
     ]
    },
    {
     "name": "stderr",
     "output_type": "stream",
     "text": [
      "2020-11-16 19:09:24,192 WARNING  Unresolved object in checkpoint: (root).optimizer's state 'v' for (root).layer_with_weights-2.bias\n"
     ]
    },
    {
     "name": "stdout",
     "output_type": "stream",
     "text": [
      "WARNING:tensorflow:A checkpoint was restored (e.g. tf.train.Checkpoint.restore or tf.keras.Model.load_weights) but not all checkpointed values were used. See above for specific issues. Use expect_partial() on the load status object, e.g. tf.train.Checkpoint.restore(...).expect_partial(), to silence these warnings, or use assert_consumed() to make the check explicit. See https://www.tensorflow.org/guide/checkpoint#loading_mechanics for details.\n"
     ]
    },
    {
     "name": "stderr",
     "output_type": "stream",
     "text": [
      "2020-11-16 19:09:24,193 WARNING  A checkpoint was restored (e.g. tf.train.Checkpoint.restore or tf.keras.Model.load_weights) but not all checkpointed values were used. See above for specific issues. Use expect_partial() on the load status object, e.g. tf.train.Checkpoint.restore(...).expect_partial(), to silence these warnings, or use assert_consumed() to make the check explicit. See https://www.tensorflow.org/guide/checkpoint#loading_mechanics for details.\n"
     ]
    },
    {
     "name": "stdout",
     "output_type": "stream",
     "text": [
      " 750 | 00:04:23 | Agent:  -7.6% ( -3.6%) | Market:   7.8% (  2.8%) | Wins: 22.0% | eps:  0.000\n",
      " 760 | 00:04:26 | Agent:  -7.9% (-12.2%) | Market:   6.8% (  7.6%) | Wins: 21.0% | eps:  0.000\n",
      " 770 | 00:04:30 | Agent:  -7.4% (-11.0%) | Market:   6.4% ( 13.3%) | Wins: 22.0% | eps:  0.000\n",
      " 780 | 00:04:33 | Agent:  -8.0% (-21.5%) | Market:   5.4% ( -0.4%) | Wins: 22.0% | eps:  0.000\n",
      " 790 | 00:04:37 | Agent:  -8.5% (-16.6%) | Market:   6.6% ( 12.1%) | Wins: 21.0% | eps:  0.000\n",
      " 800 | 00:04:40 | Agent: -10.1% (-10.1%) | Market:   7.6% ( 14.2%) | Wins: 19.0% | eps:  0.000\n",
      " 810 | 00:04:43 | Agent: -11.3% (-13.2%) | Market:   6.7% ( 12.8%) | Wins: 19.0% | eps:  0.000\n",
      " 820 | 00:04:47 | Agent: -11.9% (-16.8%) | Market:   7.1% (  1.9%) | Wins: 18.0% | eps:  0.000\n",
      " 830 | 00:04:50 | Agent: -11.4% ( -5.7%) | Market:   8.1% ( 15.6%) | Wins: 18.0% | eps:  0.000\n",
      " 840 | 00:04:53 | Agent: -11.9% ( -8.6%) | Market:   9.8% ( 18.3%) | Wins: 15.0% | eps:  0.000\n",
      " 850 | 00:04:57 | Agent: -12.7% (-10.9%) | Market:  11.8% ( 22.9%) | Wins: 11.0% | eps:  0.000\n",
      " 860 | 00:05:00 | Agent: -13.5% (-20.5%) | Market:  12.2% ( 11.8%) | Wins: 12.0% | eps:  0.000\n",
      " 870 | 00:05:03 | Agent: -13.0% ( -6.1%) | Market:  11.4% (  4.8%) | Wins: 14.0% | eps:  0.000\n",
      " 880 | 00:05:07 | Agent: -11.2% ( -3.6%) | Market:  12.7% ( 12.5%) | Wins: 15.0% | eps:  0.000\n",
      " 890 | 00:05:10 | Agent: -11.3% (-17.6%) | Market:  13.3% ( 18.4%) | Wins: 14.0% | eps:  0.000\n",
      " 900 | 00:05:13 | Agent: -10.4% ( -1.3%) | Market:  12.5% (  5.8%) | Wins: 17.0% | eps:  0.000\n",
      " 910 | 00:05:17 | Agent: -10.1% (-10.1%) | Market:  11.6% (  4.3%) | Wins: 18.0% | eps:  0.000\n",
      " 920 | 00:05:20 | Agent:  -9.5% (-10.4%) | Market:  12.5% ( 10.5%) | Wins: 17.0% | eps:  0.000\n",
      " 930 | 00:05:23 | Agent:  -9.0% ( -1.4%) | Market:  12.0% ( 11.2%) | Wins: 17.0% | eps:  0.000\n",
      " 940 | 00:05:27 | Agent:  -8.4% ( -2.0%) | Market:  12.2% ( 20.1%) | Wins: 17.0% | eps:  0.000\n",
      " 950 | 00:05:30 | Agent:  -7.6% ( -2.6%) | Market:  10.2% (  2.8%) | Wins: 21.0% | eps:  0.000\n",
      " 960 | 00:05:33 | Agent:  -7.1% (-16.2%) | Market:   9.6% (  6.1%) | Wins: 22.0% | eps:  0.000\n",
      " 970 | 00:05:37 | Agent:  -7.0% ( -4.3%) | Market:  10.9% ( 17.1%) | Wins: 20.0% | eps:  0.000\n",
      " 980 | 00:05:40 | Agent:  -7.8% (-11.8%) | Market:   9.9% (  3.0%) | Wins: 20.0% | eps:  0.000\n",
      " 990 | 00:05:43 | Agent:  -6.9% ( -8.4%) | Market:  10.1% ( 20.7%) | Wins: 22.0% | eps:  0.000\n",
      "1000 | 00:05:47 | Agent:  -8.0% (-12.5%) | Market:  10.6% ( 10.1%) | Wins: 20.0% | eps:  0.000\n"
     ]
    }
   ],
   "source": [
    "start = time()\n",
    "results = []\n",
    "for episode in range(1, max_episodes + 1):\n",
    "    this_state = trading_environment.reset()\n",
    "    for episode_step in range(max_episode_steps):\n",
    "        action = ddqn.epsilon_greedy_policy(this_state.reshape(-1, state_dim))\n",
    "        next_state, reward, done, _ = trading_environment.step(action)\n",
    "    \n",
    "        ddqn.memorize_transition(this_state, \n",
    "                                 action, \n",
    "                                 reward, \n",
    "                                 next_state, \n",
    "                                 0.0 if done else 1.0)\n",
    "        if ddqn.train:\n",
    "            ddqn.experience_replay()\n",
    "        if done:\n",
    "            break\n",
    "        this_state = next_state\n",
    "\n",
    "    result = trading_environment.env.simulator.result()\n",
    "    final = result.iloc[-1]\n",
    "\n",
    "    nav = final.nav * (1 + final.strategy_return)\n",
    "    navs.append(nav)\n",
    "\n",
    "    market_nav = final.market_nav\n",
    "    market_navs.append(market_nav)\n",
    "\n",
    "    diff = nav - market_nav\n",
    "    diffs.append(diff)\n",
    "    if episode % 10 == 0:\n",
    "        track_results(episode, np.mean(navs[-100:]), np.mean(navs[-10:]), \n",
    "                      np.mean(market_navs[-100:]), np.mean(market_navs[-10:]), \n",
    "                      np.sum([s > 0 for s in diffs[-100:]]) / min(len(diffs), 100), \n",
    "                      time() - start, ddqn.epsilon)\n",
    "    if len(diffs) > 25 and all([r > 0 for r in diffs[-25:]]):\n",
    "        print(result.tail())\n",
    "        break\n",
    "\n",
    "trading_environment.close()"
   ]
  },
  {
   "cell_type": "markdown",
   "metadata": {},
   "source": [
    "### Store Results"
   ]
  },
  {
   "cell_type": "code",
   "execution_count": 68,
   "metadata": {},
   "outputs": [],
   "source": [
    "save = False\n",
    "if save:\n",
    "    date_now = datetime.now().strftime('%Y-%m-%d_%H-%M')\n",
    "    results_path = Path('results', f'trading_bot_{date_now}')\n",
    "    if not results_path.exists():\n",
    "        results_path.mkdir(parents=True)\n",
    "        \n",
    "    ddqn.online_network.save_weights(f'{results_path}/model_weights/model_weights')"
   ]
  },
  {
   "cell_type": "code",
   "execution_count": 69,
   "metadata": {},
   "outputs": [
    {
     "name": "stdout",
     "output_type": "stream",
     "text": [
      "<class 'pandas.core.frame.DataFrame'>\n",
      "Int64Index: 1000 entries, 1 to 1000\n",
      "Data columns (total 4 columns):\n",
      " #   Column             Non-Null Count  Dtype  \n",
      "---  ------             --------------  -----  \n",
      " 0   Agent              1000 non-null   float64\n",
      " 1   Market             1000 non-null   float64\n",
      " 2   Difference         1000 non-null   float64\n",
      " 3   Strategy Wins (%)  901 non-null    float64\n",
      "dtypes: float64(4)\n",
      "memory usage: 39.1 KB\n"
     ]
    }
   ],
   "source": [
    "results = pd.DataFrame({'Episode': list(range(1, episode+1)),\n",
    "                        'Agent': navs,\n",
    "                        'Market': market_navs,\n",
    "                        'Difference': diffs}).set_index('Episode')\n",
    "\n",
    "results['Strategy Wins (%)'] = (results.Difference > 0).rolling(100).sum()\n",
    "results.info()"
   ]
  },
  {
   "cell_type": "code",
   "execution_count": 70,
   "metadata": {},
   "outputs": [],
   "source": [
    "if save:\n",
    "    results.to_csv(results_path / f'results.csv', index=False)"
   ]
  },
  {
   "cell_type": "code",
   "execution_count": 71,
   "metadata": {},
   "outputs": [
    {
     "data": {
      "image/png": "[encoded data removed]",
      "text/plain": [
       "<Figure size 432x288 with 1 Axes>"
      ]
     },
     "metadata": {},
     "output_type": "display_data"
    }
   ],
   "source": [
    "with sns.axes_style('white'):\n",
    "    sns.distplot(results.Difference)\n",
    "    sns.despine()"
   ]
  },
  {
   "cell_type": "markdown",
   "metadata": {},
   "source": [
    "### Evaluate results"
   ]
  },
  {
   "cell_type": "code",
   "execution_count": 72,
   "metadata": {},
   "outputs": [
    {
     "name": "stdout",
     "output_type": "stream",
     "text": [
      "<class 'pandas.core.frame.DataFrame'>\n",
      "Int64Index: 1000 entries, 1 to 1000\n",
      "Data columns (total 4 columns):\n",
      " #   Column             Non-Null Count  Dtype  \n",
      "---  ------             --------------  -----  \n",
      " 0   Agent              1000 non-null   float64\n",
      " 1   Market             1000 non-null   float64\n",
      " 2   Difference         1000 non-null   float64\n",
      " 3   Strategy Wins (%)  901 non-null    float64\n",
      "dtypes: float64(4)\n",
      "memory usage: 39.1 KB\n"
     ]
    }
   ],
   "source": [
    "results.info()"
   ]
  },
  {
   "cell_type": "markdown",
   "metadata": {},
   "source": [
    "The following diagram shows the rolling average of agent and market returns over 100 periods on the left, and the share of the last 100 periods the agent outperformed the market on the right. It uses AAPL stock data for which there are some 9,000 daily price and volume observations. Training stopped after 14,000 trading periods when the agent beat the market 10 consecutive times.\n",
    "\n",
    "It shows how the agent's performance improves significantly while exploring at a higher rate over the first ~3,000 periods (that is, years) and approaches a level where it outperforms the market around 40 percent of the time, despite transaction costs. In a few instances, it beats the market about half the time out of 100 periods:"
   ]
  },
  {
   "cell_type": "code",
   "execution_count": 73,
   "metadata": {
    "scrolled": true
   },
   "outputs": [
    {
     "data": {
      "image/png": "[encoded data removed]",
      "text/plain": [
       "<Figure size 1008x288 with 2 Axes>"
      ]
     },
     "metadata": {
      "needs_background": "light"
     },
     "output_type": "display_data"
    }
   ],
   "source": [
    "fig, axes = plt.subplots(ncols=2, figsize=(14, 4), sharey=True)\n",
    "\n",
    "df1 = (results[['Agent', 'Market']]\n",
    "       .sub(1)\n",
    "       .rolling(100)\n",
    "       .mean())\n",
    "df1.plot(ax=axes[0],\n",
    "         title='Annual Returns (Moving Average)',\n",
    "         lw=1)\n",
    "\n",
    "df2 = results['Strategy Wins (%)'].div(100).rolling(50).mean()\n",
    "df2.plot(ax=axes[1],\n",
    "         title='Agent Outperformance (%, Moving Average)')\n",
    "\n",
    "for ax in axes:\n",
    "    ax.yaxis.set_major_formatter(\n",
    "        FuncFormatter(lambda y, _: '{:.0%}'.format(y)))\n",
    "    ax.xaxis.set_major_formatter(\n",
    "        FuncFormatter(lambda x, _: '{:,.0f}'.format(x)))\n",
    "axes[1].axhline(.5, ls='--', c='k', lw=1)\n",
    "\n",
    "sns.despine()\n",
    "fig.tight_layout()\n",
    "if save:\n",
    "    fig.savefig(results_path / 'performance', dpi=300)"
   ]
  },
  {
   "cell_type": "markdown",
   "metadata": {},
   "source": [
    "## Things to do\n",
    "- Format input data to sliding window to incorporate more data / features\n",
    "- Use an LSTM rather an DNN"
   ]
  }
 ],
 "metadata": {
  "kernelspec": {
   "display_name": "Python 3.7.4 64-bit ('Jameshuckle': virtualenv)",
   "language": "python",
   "name": "python37464bitjameshucklevirtualenv1ec6556667214fdb836c8fa1e3a8bcb5"
  },
  "language_info": {
   "codemirror_mode": {
    "name": "ipython",
    "version": 3
   },
   "file_extension": ".py",
   "mimetype": "text/x-python",
   "name": "python",
   "nbconvert_exporter": "python",
   "pygments_lexer": "ipython3",
   "version": "3.7.4"
  }
 },
 "nbformat": 4,
 "nbformat_minor": 2
}
