{
 "cells": [
  {
   "cell_type": "code",
   "execution_count": 1,
   "metadata": {},
   "outputs": [],
   "source": [
    "import numpy as np\n",
    "import matplotlib.pyplot as plot\n",
    "import pandas as pd\n",
    "import time\n",
    "import gym\n",
    "\n",
    "from tensorflow.keras import backend as K\n",
    "from tensorflow.keras.layers import Dense, Input\n",
    "from tensorflow.keras import Model\n",
    "from tensorflow.keras.optimizers import Adam\n",
    "import tensorflow as tf\n",
    "tf.compat.v1.disable_eager_execution()\n",
    "\n",
    "%matplotlib inline"
   ]
  },
  {
   "cell_type": "code",
   "execution_count": 2,
   "metadata": {},
   "outputs": [],
   "source": [
    "class DNNAgent():\n",
    "    def __init__(self, env, alpha, gamma):\n",
    "        self.env = env\n",
    "        self.n_states = env.observation_space.shape[0]\n",
    "        self.n_actions = env.action_space.n\n",
    "        self.alpha = alpha\n",
    "        self.gamma = gamma\n",
    "        self.policy_model, self.predict_model = self.build_policy_network()\n",
    "        self.value_model = self.build_value_network()\n",
    "        \n",
    "    def build_policy_network(self):\n",
    "        inputs = Input(shape=(self.n_states,))\n",
    "        baseline = Input(shape=[1])\n",
    "        dense1 = Dense(16, activation='relu')(inputs)\n",
    "        dense2 = Dense(16, activation='relu')(dense1)\n",
    "        probs = Dense(self.n_actions, activation='softmax')(dense2)\n",
    "\n",
    "        #negative log likelihood\n",
    "        def custom_loss(y_true, y_pred): #y_pred is softmax output, y_true is one hot of action taken\n",
    "            out = K.clip(y_pred, 1e-8, 1-1e-8)\n",
    "            log_lik = y_true * K.log(out)\n",
    "            return K.sum(-log_lik * baseline)\n",
    "        \n",
    "        policy_model = Model(inputs=[inputs, baseline], outputs=[probs])\n",
    "        policy_model.compile(optimizer=Adam(lr=self.alpha), loss=custom_loss)\n",
    "        \n",
    "        # predict model shares weights with policy model but is used with raw input (no baseline)\n",
    "        # to get a sofmax (predict) output\n",
    "        # It doesn't use the custom_loss function because we do not perform backprop and change weight\n",
    "        predict_model = Model(inputs=[inputs], outputs=[probs])\n",
    "        return policy_model, predict_model\n",
    "    \n",
    "    def build_value_network(self):\n",
    "        inputs = Input(shape=(self.n_states,))\n",
    "        dense1 = Dense(16, activation='relu')(inputs)\n",
    "        dense2 = Dense(16, activation='relu')(dense1)\n",
    "        value = Dense(1, activation=None)(dense2)  \n",
    "        value_model = Model(inputs=[inputs], outputs=[value])\n",
    "        value_model.compile(optimizer=Adam(lr=self.alpha), loss='mse')\n",
    "        return value_model\n",
    "        \n",
    "    def choose_action(self, state):\n",
    "        softmax = self.predict_model.predict(state[None, :]).flatten()\n",
    "        action = np.random.choice(range(self.n_actions), p=softmax)\n",
    "        return action, softmax  \n",
    "        \n",
    "    def update_weights(self, states, rewards, actions, states_est):\n",
    "        total_rewards = []\n",
    "        for idx in range(len(rewards)):\n",
    "            discounted_total_reward = sum([(self.gamma**step) * reward \n",
    "                                 for step, reward in enumerate(rewards[idx:])])\n",
    "            total_rewards.append(discounted_total_reward)\n",
    "        baseline = np.array(total_rewards) - np.array(states_est)\n",
    "        baseline = np.vstack(baseline)\n",
    "        one_hot_actions = np.zeros((len(actions), self.n_actions))\n",
    "        one_hot_actions[range(len(actions)), actions] = 1\n",
    "        states = np.vstack(states)\n",
    "        self.policy_model.fit(x=[states, baseline], y=one_hot_actions, verbose=0)\n",
    "        self.value_model.fit(x=states, y=np.array(total_rewards), verbose=0)"
   ]
  },
  {
   "cell_type": "code",
   "execution_count": 12,
   "metadata": {},
   "outputs": [],
   "source": [
    "env_name = 'CartPole-v0'\n",
    "#env_name = 'LunarLander-v2' \n",
    "env = gym.make(env_name)\n",
    "\n",
    "gamma = 0.99\n",
    "alpha = 0.0001\n",
    "\n",
    "np.random.seed(1)\n",
    "agent = DNNAgent(env, alpha, gamma)"
   ]
  },
  {
   "cell_type": "code",
   "execution_count": 13,
   "metadata": {},
   "outputs": [
    {
     "name": "stdout",
     "output_type": "stream",
     "text": [
      "episode: 5295 highscores: 195.686969696974\r"
     ]
    }
   ],
   "source": [
    "highscores = [0]\n",
    "\n",
    "episode = -1\n",
    "while np.mean(highscores[-100:]) < 195:\n",
    "    episode += 1\n",
    "#for episode in range(7500):\n",
    "    done = False\n",
    "    state = env.reset()\n",
    "    states = []\n",
    "    states_est = []\n",
    "    rewards = []\n",
    "    actions = []\n",
    "    score = 0\n",
    "    while not done:\n",
    "        #env.render() # pop up window showing agent\n",
    "        \n",
    "        action, probs = agent.choose_action(state)\n",
    "        next_state, reward, done, info = env.step(action)\n",
    "        state_value_est = agent.value_model.predict(state[None, :])\n",
    "        \n",
    "        states_est.append(state_value_est)\n",
    "        states.append(state)\n",
    "        rewards.append(reward)\n",
    "        actions.append(action)\n",
    "        \n",
    "        state = next_state\n",
    "        score += reward\n",
    "        \n",
    "    agent.update_weights(states, rewards, actions, states_est)\n",
    "    \n",
    "    highscores.append(score)\n",
    "    print(f'episode: {episode} highscores: {np.mean(highscores[-100:])}', end=\"\\r\", flush=False)    \n",
    "        \n",
    "env.close() # closes popup window"
   ]
  },
  {
   "cell_type": "code",
   "execution_count": 14,
   "metadata": {
    "scrolled": true
   },
   "outputs": [
    {
     "data": {
      "text/plain": [
       "<matplotlib.axes._subplots.AxesSubplot at 0x2b502d8b5c8>"
      ]
     },
     "execution_count": 14,
     "metadata": {},
     "output_type": "execute_result"
    },
    {
     "data": {
      "image/png": "[encoded data removed]",
      "text/plain": [
       "<Figure size 432x288 with 1 Axes>"
      ]
     },
     "metadata": {
      "needs_background": "light"
     },
     "output_type": "display_data"
    }
   ],
   "source": [
    "pd.Series(highscores).rolling(window=100, min_periods=1).mean().plot()"
   ]
  },
  {
   "cell_type": "code",
   "execution_count": 30,
   "metadata": {
    "scrolled": false
   },
   "outputs": [
    {
     "data": {
      "text/plain": [
       "[200.0, 200.0, 200.0, 200.0, 200.0, 200.0, 200.0, 200.0, 200.0, 200.0]"
      ]
     },
     "execution_count": 30,
     "metadata": {},
     "output_type": "execute_result"
    }
   ],
   "source": [
    "test_highscores = []\n",
    "for episode in range(10):\n",
    "    done = False\n",
    "    state = env.reset()\n",
    "    score = 0\n",
    "    while not done:\n",
    "        env.render() # pop up window showing agent\n",
    "        \n",
    "        action, probs = agent.choose_action(state)\n",
    "        state, reward, done, info = env.step(action)\n",
    "        \n",
    "        score += reward\n",
    "    \n",
    "    test_highscores.append(score)\n",
    "    \n",
    "env.close()\n",
    "test_highscores "
   ]
  }
 ],
 "metadata": {
  "kernelspec": {
   "display_name": "Python 3",
   "language": "python",
   "name": "python3"
  },
  "language_info": {
   "codemirror_mode": {
    "name": "ipython",
    "version": 3
   },
   "file_extension": ".py",
   "mimetype": "text/x-python",
   "name": "python",
   "nbconvert_exporter": "python",
   "pygments_lexer": "ipython3",
   "version": "3.7.4"
  }
 },
 "nbformat": 4,
 "nbformat_minor": 2
}
