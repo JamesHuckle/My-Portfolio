{
 "cells": [
  {
   "cell_type": "code",
   "execution_count": 1,
   "metadata": {},
   "outputs": [],
   "source": [
    "import numpy as np\n",
    "import matplotlib.pyplot as plot\n",
    "import pandas as pd\n",
    "import time\n",
    "import gym\n",
    "\n",
    "from tensorflow.keras import backend as K\n",
    "from tensorflow.keras.layers import Dense, Input\n",
    "from tensorflow.keras import Model\n",
    "from tensorflow.keras.optimizers import Adam\n",
    "import tensorflow as tf\n",
    "tf.compat.v1.disable_eager_execution()\n",
    "\n",
    "%matplotlib inline"
   ]
  },
  {
   "cell_type": "markdown",
   "metadata": {},
   "source": [
    "## Linear function approximator and episodic environment"
   ]
  },
  {
   "cell_type": "code",
   "execution_count": 2,
   "metadata": {},
   "outputs": [],
   "source": [
    "class Agent():\n",
    "    def __init__(self, env, alpha, gamma):\n",
    "        self.env = env\n",
    "        self.n_states = env.observation_space.shape[0]\n",
    "        self.n_actions = env.action_space.n\n",
    "        self.alpha = alpha\n",
    "        self.gamma = gamma\n",
    "        self.theta = self.init_weights()\n",
    "        \n",
    "    def init_weights(self):\n",
    "        theta = np.random.random((self.n_actions, self.n_states))\n",
    "        return theta\n",
    "        \n",
    "    def choose_action(self, state):\n",
    "        action_pref = self.theta @ state.T   \n",
    "        exp_ = np.exp(action_pref)\n",
    "        softmax = exp_ / np.sum(exp_)\n",
    "        action = np.random.choice(range(self.n_actions), p=softmax)\n",
    "        return action, softmax  \n",
    "        \n",
    "    def softmax_grad(self, softmax):\n",
    "        s = softmax.reshape(-1, 1)\n",
    "        return np.diagflat(s) - s @ s.T\n",
    "\n",
    "    def weights_grad(self, probs, action, state):\n",
    "        policy_grad = self.softmax_grad(probs)[action]\n",
    "        policy_grad_norm = policy_grad / probs[action]\n",
    "        grad = state[None, :].T @ policy_grad_norm[None, :]\n",
    "        return grad.T\n",
    "    \n",
    "    #### Non-Vectorised equivilent to weights_grad ######\n",
    "    def weights_grad_(self, probs, action, state):\n",
    "        grad = np.zeros(self.theta.shape)\n",
    "        for a in range(self.n_actions):\n",
    "            if a == action:\n",
    "                grad[a, :] = state * (1 - probs[a])\n",
    "            else:\n",
    "                grad[a, :] = state * -probs[a]\n",
    "        return grad\n",
    "    \n",
    "    def update_weights(self, grads, rewards):\n",
    "        for idx, grad in enumerate(grads):\n",
    "            discounted_total_reward = sum([(self.gamma**step) * reward \n",
    "                                 for step, reward in enumerate(rewards[idx:])])\n",
    "            self.theta += self.alpha * discounted_total_reward * grad"
   ]
  },
  {
   "cell_type": "markdown",
   "metadata": {},
   "source": [
    "## Neural network (with normalized total rewards)"
   ]
  },
  {
   "cell_type": "code",
   "execution_count": 26,
   "metadata": {},
   "outputs": [],
   "source": [
    "class DNNAgent():\n",
    "    def __init__(self, env, alpha, gamma):\n",
    "        self.env = env\n",
    "        self.n_states = env.observation_space.shape[0]\n",
    "        self.n_actions = env.action_space.n\n",
    "        self.alpha = alpha\n",
    "        self.gamma = gamma\n",
    "        self.policy_model, self.predict_model = self.build_policy_network()\n",
    "        \n",
    "    def build_policy_network(self):\n",
    "        inputs = Input(shape=(self.n_states,))\n",
    "        rewards = Input(shape=[1])\n",
    "        dense1 = Dense(16, activation='relu')(inputs)\n",
    "        dense2 = Dense(16, activation='relu')(dense1)\n",
    "        probs = Dense(self.n_actions, activation='softmax')(dense2)\n",
    "\n",
    "        #negative log likelihood\n",
    "        def custom_loss(y_true, y_pred): #y_pred is softmax output, y_true is one hot of action taken\n",
    "            out = K.clip(y_pred, 1e-8, 1-1e-8)\n",
    "            log_lik = y_true * K.log(out)\n",
    "            return K.sum(-log_lik * rewards)\n",
    "        \n",
    "        policy_model = Model(inputs=[inputs, rewards], outputs=[probs])\n",
    "        policy_model.compile(optimizer=Adam(lr=self.alpha), loss=custom_loss)\n",
    "        \n",
    "        # predict model shares weights with policy model but is used with raw input (no rewards)\n",
    "        # to get a sofmax (predict) output\n",
    "        # It doesn't use the custom_loss function because we do not perform backprop and change weights\n",
    "        predict_model = Model(inputs=[inputs], outputs=[probs])\n",
    "        return policy_model, predict_model\n",
    "        \n",
    "    def choose_action(self, state):\n",
    "        softmax = self.predict_model.predict(state[None, :]).flatten()\n",
    "        action = np.random.choice(range(self.n_actions), p=softmax)\n",
    "        return action, softmax  \n",
    "        \n",
    "    def update_weights(self, states, rewards, actions):\n",
    "        total_rewards = []\n",
    "        for idx in range(len(rewards)):\n",
    "            discounted_total_reward = sum([(self.gamma**step) * reward \n",
    "                                 for step, reward in enumerate(rewards[idx:])])\n",
    "            total_rewards.append(discounted_total_reward)\n",
    "        total_rewards = (np.array(total_rewards) - np.mean(total_rewards)) / np.std(total_rewards)\n",
    "        total_rewards = np.vstack(total_rewards)\n",
    "        one_hot_actions = np.zeros((len(actions), self.n_actions))\n",
    "        one_hot_actions[range(len(actions)), actions] = 1\n",
    "        states = np.vstack(states)\n",
    "        self.policy_model.fit(x=[states, total_rewards], y=one_hot_actions, verbose=0)"
   ]
  },
  {
   "cell_type": "markdown",
   "metadata": {},
   "source": [
    "## Train"
   ]
  },
  {
   "cell_type": "markdown",
   "metadata": {},
   "source": [
    "### Linear"
   ]
  },
  {
   "cell_type": "code",
   "execution_count": 4,
   "metadata": {},
   "outputs": [],
   "source": [
    "env_name = 'CartPole-v0'\n",
    "#env_name = 'LunarLander-v2' \n",
    "env = gym.make(env_name)\n",
    "\n",
    "gamma = 0.99\n",
    "alpha = 0.00005\n",
    "\n",
    "np.random.seed(1)\n",
    "agent = Agent(env, alpha, gamma)"
   ]
  },
  {
   "cell_type": "code",
   "execution_count": null,
   "metadata": {},
   "outputs": [],
   "source": [
    "highscores = [0]\n",
    "\n",
    "while np.mean(highscores[-100:]) < 195:\n",
    "#for episode in range(7500):\n",
    "    done = False\n",
    "    state = env.reset()\n",
    "    rewards = []\n",
    "    grads = []\n",
    "    score = 0\n",
    "    while not done:\n",
    "        #env.render() # pop up window showing agent\n",
    "        \n",
    "        action, probs = agent.choose_action(state)\n",
    "        next_state, reward, done, info = env.step(action)\n",
    "        grad = agent.weights_grad_(probs, action, state)\n",
    "        \n",
    "        rewards.append(reward)\n",
    "        grads.append(grad)\n",
    "        \n",
    "        state = next_state\n",
    "        score += reward\n",
    "        \n",
    "    agent.update_weights(grads, rewards)\n",
    "    \n",
    "    highscores.append(score)\n",
    "    print(f'episode: {episode} highscores: {np.mean(highscores[-100:])}', end=\"\\r\", flush=False)    \n",
    "        \n",
    "env.close() # closes popup window"
   ]
  },
  {
   "cell_type": "markdown",
   "metadata": {},
   "source": [
    "### Neural Network"
   ]
  },
  {
   "cell_type": "code",
   "execution_count": 59,
   "metadata": {},
   "outputs": [],
   "source": [
    "env_name = 'CartPole-v0'\n",
    "#env_name = 'LunarLander-v2' \n",
    "env = gym.make(env_name)\n",
    "\n",
    "gamma = 0.99\n",
    "alpha = 0.0005\n",
    "\n",
    "np.random.seed(1)\n",
    "agent = DNNAgent(env, alpha, gamma)"
   ]
  },
  {
   "cell_type": "code",
   "execution_count": 60,
   "metadata": {},
   "outputs": [
    {
     "name": "stdout",
     "output_type": "stream",
     "text": [
      "episode: 1426 highscores: 198.179292929294\r"
     ]
    }
   ],
   "source": [
    "highscores = [0]\n",
    "\n",
    "episode = -1\n",
    "while np.mean(highscores[-100:]) < 198:\n",
    "    episode += 1\n",
    "#for episode in range(7500):\n",
    "    done = False\n",
    "    state = env.reset()\n",
    "    states = []\n",
    "    rewards = []\n",
    "    actions = []\n",
    "    score = 0\n",
    "    while not done:\n",
    "        #env.render() # pop up window showing agent\n",
    "        \n",
    "        action, probs = agent.choose_action(state)\n",
    "        next_state, reward, done, info = env.step(action)\n",
    "        \n",
    "        states.append(state)\n",
    "        rewards.append(reward)\n",
    "        actions.append(action)\n",
    "        \n",
    "        state = next_state\n",
    "        score += reward\n",
    "        \n",
    "    agent.update_weights(states, rewards, actions)\n",
    "    \n",
    "    highscores.append(score)\n",
    "    print(f'episode: {episode} highscores: {np.mean(highscores[-100:])}', end=\"\\r\", flush=False)    \n",
    "        \n",
    "env.close() # closes popup window"
   ]
  },
  {
   "cell_type": "code",
   "execution_count": 61,
   "metadata": {
    "scrolled": true
   },
   "outputs": [
    {
     "data": {
      "text/plain": [
       "<matplotlib.axes._subplots.AxesSubplot at 0x23816885dc8>"
      ]
     },
     "execution_count": 61,
     "metadata": {},
     "output_type": "execute_result"
    },
    {
     "data": {
      "image/png": "[encoded data removed]",
      "text/plain": [
       "<Figure size 432x288 with 1 Axes>"
      ]
     },
     "metadata": {
      "needs_background": "light"
     },
     "output_type": "display_data"
    }
   ],
   "source": [
    "pd.Series(highscores).rolling(window=100, min_periods=1).mean().plot()"
   ]
  },
  {
   "cell_type": "code",
   "execution_count": 30,
   "metadata": {
    "scrolled": false
   },
   "outputs": [
    {
     "data": {
      "text/plain": [
       "[200.0, 200.0, 200.0, 200.0, 200.0, 200.0, 200.0, 200.0, 200.0, 200.0]"
      ]
     },
     "execution_count": 30,
     "metadata": {},
     "output_type": "execute_result"
    }
   ],
   "source": [
    "test_highscores = []\n",
    "for episode in range(10):\n",
    "    done = False\n",
    "    state = env.reset()\n",
    "    score = 0\n",
    "    while not done:\n",
    "        env.render() # pop up window showing agent\n",
    "        \n",
    "        action, probs = agent.choose_action(state)\n",
    "        state, reward, done, info = env.step(action)\n",
    "        \n",
    "        score += reward\n",
    "    \n",
    "    test_highscores.append(score)\n",
    "    \n",
    "env.close()\n",
    "test_highscores "
   ]
  }
 ],
 "metadata": {
  "kernelspec": {
   "display_name": "Python 3",
   "language": "python",
   "name": "python3"
  },
  "language_info": {
   "codemirror_mode": {
    "name": "ipython",
    "version": 3
   },
   "file_extension": ".py",
   "mimetype": "text/x-python",
   "name": "python",
   "nbconvert_exporter": "python",
   "pygments_lexer": "ipython3",
   "version": "3.7.4"
  }
 },
 "nbformat": 4,
 "nbformat_minor": 2
}
