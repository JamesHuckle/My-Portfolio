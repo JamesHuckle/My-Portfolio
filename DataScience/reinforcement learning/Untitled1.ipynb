{
 "cells": [
  {
   "cell_type": "code",
   "execution_count": 30,
   "metadata": {},
   "outputs": [],
   "source": [
    "import gym\n",
    "import numpy as np\n",
    "import pandas as pd\n",
    "from gym import spaces\n",
    "from gym.utils import seeding\n",
    "from sklearn.preprocessing import scale"
   ]
  },
  {
   "cell_type": "code",
   "execution_count": 35,
   "metadata": {},
   "outputs": [],
   "source": [
    "env_name = 'CartPole-v0' #DONE\n",
    "# env_name = 'MountainCar-v0' #DONE\n",
    "# env_name = 'MountainCarContinuous-v0'\n",
    "# env_name = 'Acrobot-v1' # DONE\n",
    "# env_name = 'Pendulum-v0'\n",
    "# env_name = 'LunarLander-v2'\n",
    "env = gym.make(env_name)"
   ]
  },
  {
   "cell_type": "code",
   "execution_count": 36,
   "metadata": {},
   "outputs": [],
   "source": [
    "class Agent():\n",
    "    def __init__(self, env):\n",
    "        self.env = env\n",
    "        \n",
    "    def get_random_action(self, state):\n",
    "        action = self.env.action_space.sample()\n",
    "        return action"
   ]
  },
  {
   "cell_type": "code",
   "execution_count": 37,
   "metadata": {},
   "outputs": [],
   "source": [
    "agent = Agent(env)\n",
    "state = env.reset()\n",
    "for i in range(1000): # run for 1000 steps\n",
    "    env.render()\n",
    "    action = agent.get_random_action(state) # pick a random action\n",
    "    state, reward, terminal, info = env.step(action) # take action\n",
    "    if terminal: \n",
    "        intial_state = env.reset()\n",
    "env.close()"
   ]
  },
  {
   "cell_type": "code",
   "execution_count": null,
   "metadata": {},
   "outputs": [],
   "source": [
    "class TradingEnvironemt(gym.Env):\n",
    "    def __init__(self):\n",
    "        None\n",
    "        \n",
    "    def step(self, action):\n",
    "        \"\"\"Returns state observation, reward, done and info\"\"\"\n",
    "        observation = [10,5,13]\n",
    "        reward = np.random.random()\n",
    "        done = np.random.random() < 0.01\n",
    "        info = 'keep trading!'\n",
    "        \n",
    "        return observation, reward, done, info\n",
    "    \n",
    "    def reset(self):\n",
    "        \"\"\"Resets \"\"\""
   ]
  }
 ],
 "metadata": {
  "kernelspec": {
   "display_name": "Python 3.7.4 64-bit ('Jameshuckle': virtualenv)",
   "language": "python",
   "name": "python37464bitjameshucklevirtualenv1ec6556667214fdb836c8fa1e3a8bcb5"
  },
  "language_info": {
   "codemirror_mode": {
    "name": "ipython",
    "version": 3
   },
   "file_extension": ".py",
   "mimetype": "text/x-python",
   "name": "python",
   "nbconvert_exporter": "python",
   "pygments_lexer": "ipython3",
   "version": "3.7.4"
  }
 },
 "nbformat": 4,
 "nbformat_minor": 2
}
