{
 "cells": [
  {
   "cell_type": "code",
   "execution_count": 1,
   "metadata": {},
   "outputs": [],
   "source": [
    "import tensorflow as tf\n",
    "from tensorflow import keras\n",
    "from tensorflow.keras.layers import Dense, Activation\n",
    "from tensorflow.keras.models import Sequential, load_model\n",
    "from tensorflow.keras.optimizers import Adam\n",
    "\n",
    "import matplotlib.pyplot as plt\n",
    "import numpy as np\n",
    "import time\n",
    "import gym\n",
    "from gym import wrappers"
   ]
  },
  {
   "cell_type": "code",
   "execution_count": 64,
   "metadata": {},
   "outputs": [],
   "source": [
    "class ReplayBuffer():\n",
    "    def __init__(self, max_size, n_states):\n",
    "        self.mem_size = max_size # replay buffer size, max number of experiences to store\n",
    "        self.mem_cntr = 0  # replay buffer counter (used for indexing later)\n",
    "        self.state_memory = np.zeros((self.mem_size, n_states), dtype=np.float32)\n",
    "        self.new_state_memory = np.zeros((self.mem_size, n_states), dtype=np.float32)\n",
    "        self.action_memory = np.zeros(self.mem_size, dtype=np.int32)\n",
    "        self.reward_memory = np.zeros(self.mem_size, dtype=np.float32)\n",
    "        self.terminal_memory = np.zeros(self.mem_size, dtype=np.int32)\n",
    "\n",
    "    def store_transition(self, state, action, reward, state_, done):\n",
    "        index = self.mem_cntr % self.mem_size # When memory counter goes past max replay size, indexes at start of array\n",
    "        self.state_memory[index] = state\n",
    "        self.new_state_memory[index] = state_\n",
    "        self.reward_memory[index] = reward\n",
    "        self.action_memory[index] = action\n",
    "        self.terminal_memory[index] = done\n",
    "        self.mem_cntr += 1\n",
    "\n",
    "    def sample_buffer(self, batch_size):\n",
    "        max_mem = min(self.mem_cntr, self.mem_size) # number of experiences in replay buffer\n",
    "        batch = np.random.choice(max_mem, batch_size, replace=False) # select # experiences to train on\n",
    "\n",
    "        states = self.state_memory[batch]\n",
    "        states_ = self.new_state_memory[batch]\n",
    "        rewards = self.reward_memory[batch]\n",
    "        actions = self.action_memory[batch]\n",
    "        terminal = self.terminal_memory[batch]\n",
    "        return states, actions, rewards, states_, terminal\n",
    "\n",
    "class DQNAgent():\n",
    "    def __init__(self, env, lr, gamma, epsilon, batch_size, epsilon_dec=1e-3, epsilon_end=0.01, mem_size=1000000):\n",
    "        self.env = env\n",
    "        self.n_states = env.observation_space.shape[0]\n",
    "        self.n_actions = env.action_space.n\n",
    "        self.gamma = gamma\n",
    "        self.epsilon = epsilon\n",
    "        self.eps_dec = epsilon_dec\n",
    "        self.eps_min = epsilon_end\n",
    "        self.batch_size = batch_size\n",
    "        self.memory = ReplayBuffer(mem_size, self.n_states)\n",
    "        self.model = self.create_q_network(lr, fc1_dims=256, fc2_dims=256)\n",
    "        self.target_model = self.create_q_network(lr, fc1_dims=256, fc2_dims=256)\n",
    "        \n",
    "    def create_q_network(self, lr, fc1_dims, fc2_dims):\n",
    "        model = keras.Sequential([\n",
    "            keras.layers.Dense(fc1_dims, activation='relu', input_shape=(self.n_states,)),\n",
    "            keras.layers.Dense(fc2_dims, activation='relu'),\n",
    "            keras.layers.Dense(self.n_actions, activation=None)])\n",
    "        model.compile(optimizer=Adam(learning_rate=lr), loss='mean_squared_error')\n",
    "        return model\n",
    "\n",
    "    def set_new_lr(self, lr):\n",
    "        self.model.compile(optimizer=Adam(lr), loss='mean_squared_error')\n",
    "\n",
    "    def add_to_replay_buffer(self, state, action, reward, new_state, done):\n",
    "        self.memory.store_transition(state, action, reward, new_state, done)\n",
    "\n",
    "    def choose_action(self, observation):\n",
    "        if np.random.random() < self.epsilon:\n",
    "            action = env.action_space.sample()\n",
    "        else:\n",
    "            observation = np.expand_dims(observation, axis=0)\n",
    "            action = np.argmax(self.model.predict(observation))\n",
    "            \n",
    "        self.epsilon = max(self.eps_min, self.epsilon - self.eps_dec)\n",
    "        return action\n",
    "\n",
    "    def copy_across_model_weights(self):\n",
    "        if self.memory.mem_cntr % 100 == 0:\n",
    "            weights = self.model.get_weights()\n",
    "            self.target_model.set_weights(weights)\n",
    "    \n",
    "    def learn_from_replay_buffer(self):\n",
    "        if self.memory.mem_cntr < self.batch_size:\n",
    "            return\n",
    "        states, actions, rewards, next_states , dones = self.memory.sample_buffer(self.batch_size) \n",
    "        self.copy_across_model_weights()\n",
    "        q_state = self.model.predict(states)\n",
    "        q_next_state = self.target_model.predict(next_states)\n",
    "        q_state[range(len(q_state)), actions] = rewards + self.gamma * np.max(q_next_state, axis=1) * (1 - dones)\n",
    "       \n",
    "        self.model.train_on_batch(states, q_state)"
   ]
  },
  {
   "cell_type": "code",
   "execution_count": 65,
   "metadata": {},
   "outputs": [],
   "source": [
    "tf.compat.v1.disable_eager_execution()\n",
    "\n",
    "# env_name = 'CartPole-v0' #DONE\n",
    "# env_name = 'MountainCar-v0' #DONE\n",
    "# env_name = 'MountainCarContinuous-v0'\n",
    "# env_name = 'Acrobot-v1' # DONE\n",
    "# env_name = 'Pendulum-v0' #DONE\n",
    "env_name = 'LunarLander-v2' #Done\n",
    "env = gym.make(env_name)\n",
    "\n",
    "lr = 0.0005\n",
    "agent = DQNAgent(env=env, gamma=0.99, epsilon=1.0, lr=lr, mem_size=1000000, batch_size=64, epsilon_dec=1e-4, epsilon_end=0)"
   ]
  },
  {
   "cell_type": "code",
   "execution_count": 66,
   "metadata": {
    "scrolled": false
   },
   "outputs": [
    {
     "name": "stdout",
     "output_type": "stream",
     "text": [
      "episode: 0 score: -351.9 average_score: -352.0 epsilon: 0.99\n",
      "episode: 1 score: -76.41 average_score: -214.0 epsilon: 0.98\n",
      "episode: 2 score: -71.06 average_score: -166.0 epsilon: 0.97\n",
      "episode: 3 score: -120.98 average_score: -155.0 epsilon: 0.96\n",
      "episode: 4 score: -275.65 average_score: -179.0 epsilon: 0.95\n",
      "episode: 5 score: -254.03 average_score: -192.0 epsilon: 0.94\n",
      "episode: 6 score: -188.09 average_score: -191.0 epsilon: 0.93\n",
      "episode: 7 score: -45.34 average_score: -173.0 epsilon: 0.93\n",
      "episode: 8 score: -167.66 average_score: -172.0 epsilon: 0.92\n",
      "episode: 9 score: -87.12 average_score: -164.0 epsilon: 0.91\n",
      "episode: 10 score: -172.17 average_score: -165.0 epsilon: 0.89\n",
      "episode: 11 score: -96.27 average_score: -159.0 epsilon: 0.89\n",
      "episode: 12 score: -66.08 average_score: -152.0 epsilon: 0.88\n",
      "episode: 13 score: -80.29 average_score: -147.0 epsilon: 0.86\n",
      "episode: 14 score: -363.52 average_score: -161.0 epsilon: 0.85\n",
      "episode: 15 score: -111.17 average_score: -158.0 epsilon: 0.84\n",
      "episode: 16 score: -105.21 average_score: -155.0 epsilon: 0.84\n",
      "episode: 17 score: -94.2 average_score: -152.0 epsilon: 0.82\n",
      "episode: 18 score: -114.02 average_score: -150.0 epsilon: 0.82\n",
      "episode: 19 score: -55.39 average_score: -145.0 epsilon: 0.81\n",
      "episode: 20 score: -109.36 average_score: -143.0 epsilon: 0.79\n",
      "episode: 21 score: -255.51 average_score: -148.0 epsilon: 0.78\n",
      "episode: 22 score: -197.32 average_score: -150.0 epsilon: 0.77\n",
      "episode: 23 score: -169.74 average_score: -151.0 epsilon: 0.76\n",
      "episode: 24 score: -71.41 average_score: -148.0 epsilon: 0.75\n",
      "episode: 25 score: -26.79 average_score: -143.0 epsilon: 0.74\n",
      "episode: 26 score: 44.99 average_score: -136.0 epsilon: 0.73\n",
      "episode: 27 score: -70.67 average_score: -134.0 epsilon: 0.72\n",
      "episode: 28 score: -229.96 average_score: -137.0 epsilon: 0.71\n",
      "episode: 29 score: -121.17 average_score: -137.0 epsilon: 0.7\n",
      "episode: 30 score: -277.38 average_score: -141.0 epsilon: 0.69\n",
      "episode: 31 score: -215.34 average_score: -144.0 epsilon: 0.68\n",
      "episode: 32 score: -171.58 average_score: -144.0 epsilon: 0.67\n",
      "episode: 33 score: -19.41 average_score: -141.0 epsilon: 0.65\n",
      "episode: 34 score: -7.87 average_score: -137.0 epsilon: 0.64\n",
      "episode: 35 score: -97.82 average_score: -136.0 epsilon: 0.63\n",
      "episode: 36 score: -68.36 average_score: -134.0 epsilon: 0.63\n",
      "episode: 37 score: -47.02 average_score: -132.0 epsilon: 0.61\n",
      "episode: 38 score: -49.54 average_score: -130.0 epsilon: 0.61\n",
      "episode: 39 score: -88.64 average_score: -129.0 epsilon: 0.59\n",
      "episode: 40 score: -160.46 average_score: -129.0 epsilon: 0.59\n",
      "episode: 41 score: -23.41 average_score: -127.0 epsilon: 0.58\n",
      "episode: 42 score: -56.74 average_score: -125.0 epsilon: 0.57\n",
      "episode: 43 score: -78.02 average_score: -124.0 epsilon: 0.56\n",
      "episode: 44 score: -35.39 average_score: -122.0 epsilon: 0.55\n",
      "episode: 45 score: -44.44 average_score: -121.0 epsilon: 0.54\n",
      "episode: 46 score: -48.61 average_score: -119.0 epsilon: 0.53\n",
      "episode: 47 score: -53.73 average_score: -118.0 epsilon: 0.51\n",
      "episode: 48 score: -0.3 average_score: -115.0 epsilon: 0.51\n"
     ]
    },
    {
     "ename": "KeyboardInterrupt",
     "evalue": "",
     "output_type": "error",
     "traceback": [
      "\u001b[1;31m---------------------------------------------------------------------------\u001b[0m",
      "\u001b[1;31mKeyboardInterrupt\u001b[0m                         Traceback (most recent call last)",
      "\u001b[1;32m<ipython-input-66-a4e4a66e13ef>\u001b[0m in \u001b[0;36m<module>\u001b[1;34m\u001b[0m\n\u001b[0;32m     13\u001b[0m         \u001b[1;31m#reward += (abs(next_observation[0]) + 0.3)**2 / 100 # Mountain car exploration\u001b[0m\u001b[1;33m\u001b[0m\u001b[1;33m\u001b[0m\u001b[1;33m\u001b[0m\u001b[0m\n\u001b[0;32m     14\u001b[0m         \u001b[0magent\u001b[0m\u001b[1;33m.\u001b[0m\u001b[0madd_to_replay_buffer\u001b[0m\u001b[1;33m(\u001b[0m\u001b[0mobservation\u001b[0m\u001b[1;33m,\u001b[0m \u001b[0maction\u001b[0m\u001b[1;33m,\u001b[0m \u001b[0mreward\u001b[0m\u001b[1;33m,\u001b[0m \u001b[0mnext_observation\u001b[0m\u001b[1;33m,\u001b[0m \u001b[0mdone\u001b[0m\u001b[1;33m)\u001b[0m\u001b[1;33m\u001b[0m\u001b[1;33m\u001b[0m\u001b[0m\n\u001b[1;32m---> 15\u001b[1;33m         \u001b[0magent\u001b[0m\u001b[1;33m.\u001b[0m\u001b[0mlearn_from_replay_buffer\u001b[0m\u001b[1;33m(\u001b[0m\u001b[1;33m)\u001b[0m\u001b[1;33m\u001b[0m\u001b[1;33m\u001b[0m\u001b[0m\n\u001b[0m\u001b[0;32m     16\u001b[0m         \u001b[0mobservation\u001b[0m \u001b[1;33m=\u001b[0m \u001b[0mnext_observation\u001b[0m\u001b[1;33m\u001b[0m\u001b[1;33m\u001b[0m\u001b[0m\n\u001b[0;32m     17\u001b[0m         \u001b[0mscore\u001b[0m \u001b[1;33m+=\u001b[0m \u001b[0mreward\u001b[0m\u001b[1;33m\u001b[0m\u001b[1;33m\u001b[0m\u001b[0m\n",
      "\u001b[1;32m<ipython-input-64-8b46eb29fc72>\u001b[0m in \u001b[0;36mlearn_from_replay_buffer\u001b[1;34m(self)\u001b[0m\n\u001b[0;32m     75\u001b[0m         \u001b[1;32mif\u001b[0m \u001b[0mself\u001b[0m\u001b[1;33m.\u001b[0m\u001b[0mmemory\u001b[0m\u001b[1;33m.\u001b[0m\u001b[0mmem_cntr\u001b[0m \u001b[1;33m<\u001b[0m \u001b[0mself\u001b[0m\u001b[1;33m.\u001b[0m\u001b[0mbatch_size\u001b[0m\u001b[1;33m:\u001b[0m\u001b[1;33m\u001b[0m\u001b[1;33m\u001b[0m\u001b[0m\n\u001b[0;32m     76\u001b[0m             \u001b[1;32mreturn\u001b[0m\u001b[1;33m\u001b[0m\u001b[1;33m\u001b[0m\u001b[0m\n\u001b[1;32m---> 77\u001b[1;33m         \u001b[0mstates\u001b[0m\u001b[1;33m,\u001b[0m \u001b[0mactions\u001b[0m\u001b[1;33m,\u001b[0m \u001b[0mrewards\u001b[0m\u001b[1;33m,\u001b[0m \u001b[0mnext_states\u001b[0m \u001b[1;33m,\u001b[0m \u001b[0mdones\u001b[0m \u001b[1;33m=\u001b[0m \u001b[0mself\u001b[0m\u001b[1;33m.\u001b[0m\u001b[0mmemory\u001b[0m\u001b[1;33m.\u001b[0m\u001b[0msample_buffer\u001b[0m\u001b[1;33m(\u001b[0m\u001b[0mself\u001b[0m\u001b[1;33m.\u001b[0m\u001b[0mbatch_size\u001b[0m\u001b[1;33m)\u001b[0m\u001b[1;33m\u001b[0m\u001b[1;33m\u001b[0m\u001b[0m\n\u001b[0m\u001b[0;32m     78\u001b[0m         \u001b[0mself\u001b[0m\u001b[1;33m.\u001b[0m\u001b[0mcopy_across_model_weights\u001b[0m\u001b[1;33m(\u001b[0m\u001b[1;33m)\u001b[0m\u001b[1;33m\u001b[0m\u001b[1;33m\u001b[0m\u001b[0m\n\u001b[0;32m     79\u001b[0m         \u001b[0mq_state\u001b[0m \u001b[1;33m=\u001b[0m \u001b[0mself\u001b[0m\u001b[1;33m.\u001b[0m\u001b[0mmodel\u001b[0m\u001b[1;33m.\u001b[0m\u001b[0mpredict\u001b[0m\u001b[1;33m(\u001b[0m\u001b[0mstates\u001b[0m\u001b[1;33m)\u001b[0m\u001b[1;33m\u001b[0m\u001b[1;33m\u001b[0m\u001b[0m\n",
      "\u001b[1;32m<ipython-input-64-8b46eb29fc72>\u001b[0m in \u001b[0;36msample_buffer\u001b[1;34m(self, batch_size)\u001b[0m\n\u001b[0;32m     23\u001b[0m \u001b[1;33m\u001b[0m\u001b[0m\n\u001b[0;32m     24\u001b[0m         \u001b[0mstates\u001b[0m \u001b[1;33m=\u001b[0m \u001b[0mself\u001b[0m\u001b[1;33m.\u001b[0m\u001b[0mstate_memory\u001b[0m\u001b[1;33m[\u001b[0m\u001b[0mbatch\u001b[0m\u001b[1;33m]\u001b[0m\u001b[1;33m\u001b[0m\u001b[1;33m\u001b[0m\u001b[0m\n\u001b[1;32m---> 25\u001b[1;33m         \u001b[0mstates_\u001b[0m \u001b[1;33m=\u001b[0m \u001b[0mself\u001b[0m\u001b[1;33m.\u001b[0m\u001b[0mnew_state_memory\u001b[0m\u001b[1;33m[\u001b[0m\u001b[0mbatch\u001b[0m\u001b[1;33m]\u001b[0m\u001b[1;33m\u001b[0m\u001b[1;33m\u001b[0m\u001b[0m\n\u001b[0m\u001b[0;32m     26\u001b[0m         \u001b[0mrewards\u001b[0m \u001b[1;33m=\u001b[0m \u001b[0mself\u001b[0m\u001b[1;33m.\u001b[0m\u001b[0mreward_memory\u001b[0m\u001b[1;33m[\u001b[0m\u001b[0mbatch\u001b[0m\u001b[1;33m]\u001b[0m\u001b[1;33m\u001b[0m\u001b[1;33m\u001b[0m\u001b[0m\n\u001b[0;32m     27\u001b[0m         \u001b[0mactions\u001b[0m \u001b[1;33m=\u001b[0m \u001b[0mself\u001b[0m\u001b[1;33m.\u001b[0m\u001b[0maction_memory\u001b[0m\u001b[1;33m[\u001b[0m\u001b[0mbatch\u001b[0m\u001b[1;33m]\u001b[0m\u001b[1;33m\u001b[0m\u001b[1;33m\u001b[0m\u001b[0m\n",
      "\u001b[1;31mKeyboardInterrupt\u001b[0m: "
     ]
    }
   ],
   "source": [
    "highscores = []\n",
    "epsilons = []\n",
    "\n",
    "n_games = 500\n",
    "for i in range(n_games):\n",
    "    done = False\n",
    "    score = 0\n",
    "    observation = env.reset()\n",
    "\n",
    "    while not done:       \n",
    "        action = agent.choose_action(observation)\n",
    "        next_observation, reward, done, info = env.step(action)\n",
    "        #reward += (abs(next_observation[0]) + 0.3)**2 / 100 # Mountain car exploration\n",
    "        agent.add_to_replay_buffer(observation, action, reward, next_observation, done)\n",
    "        agent.learn_from_replay_buffer()\n",
    "        observation = next_observation\n",
    "        score += reward\n",
    "        \n",
    "    epsilons.append(agent.epsilon)\n",
    "    highscores.append(score)\n",
    "\n",
    "    avg_score = np.mean(highscores[-100:])\n",
    "    print('episode:', i, 'score:', round(score, 2), 'average_score:', round(avg_score), 'epsilon:', round(agent.epsilon, 2))"
   ]
  },
  {
   "cell_type": "code",
   "execution_count": 238,
   "metadata": {},
   "outputs": [
    {
     "data": {
      "text/plain": [
       "<matplotlib.axes._subplots.AxesSubplot at 0x2c976178748>"
      ]
     },
     "execution_count": 238,
     "metadata": {},
     "output_type": "execute_result"
    },
    {
     "data": {
      "image/png": "[encoded data removed]",
      "text/plain": [
       "<Figure size 432x288 with 1 Axes>"
      ]
     },
     "metadata": {
      "needs_background": "light"
     },
     "output_type": "display_data"
    }
   ],
   "source": [
    "import pandas as pd\n",
    "pd.Series(highscores).rolling(window=100, min_periods=1).mean().plot()"
   ]
  },
  {
   "cell_type": "code",
   "execution_count": 248,
   "metadata": {
    "scrolled": true
   },
   "outputs": [
    {
     "data": {
      "text/plain": [
       "[244.62071241214068]"
      ]
     },
     "execution_count": 248,
     "metadata": {},
     "output_type": "execute_result"
    }
   ],
   "source": [
    "test_highscores = []\n",
    "\n",
    "for i in range(1):\n",
    "    done = False\n",
    "    score = 0\n",
    "    observation = env.reset()\n",
    "    \n",
    "    while not done:\n",
    "        env.render()\n",
    "        action = agent.choose_action(observation)\n",
    "        next_observation, reward, done, info = env.step(action)\n",
    "        observation = next_observation\n",
    "        score += reward\n",
    "        \n",
    "    test_highscores.append(score)\n",
    "    \n",
    "env.close()\n",
    "test_highscores"
   ]
  }
 ],
 "metadata": {
  "kernelspec": {
   "display_name": "Python 3",
   "language": "python",
   "name": "python3"
  },
  "language_info": {
   "codemirror_mode": {
    "name": "ipython",
    "version": 3
   },
   "file_extension": ".py",
   "mimetype": "text/x-python",
   "name": "python",
   "nbconvert_exporter": "python",
   "pygments_lexer": "ipython3",
   "version": "3.7.4"
  }
 },
 "nbformat": 4,
 "nbformat_minor": 2
}
