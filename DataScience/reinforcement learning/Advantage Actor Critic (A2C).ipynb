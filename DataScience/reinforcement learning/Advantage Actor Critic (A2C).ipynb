{
 "cells": [
  {
   "cell_type": "code",
   "execution_count": 1,
   "metadata": {},
   "outputs": [],
   "source": [
    "import tensorflow as tf\n",
    "from tensorflow.keras import backend as K\n",
    "from tensorflow.keras.layers import Dense, Input\n",
    "from tensorflow.keras import Model\n",
    "from tensorflow.keras.optimizers import Adam\n",
    "import numpy as np\n",
    "import pandas as pd\n",
    "\n",
    "import gym\n",
    "\n",
    "import matplotlib.pyplot as plt\n",
    "%matplotlib inline"
   ]
  },
  {
   "cell_type": "code",
   "execution_count": 2,
   "metadata": {},
   "outputs": [],
   "source": [
    "class Agent():\n",
    "    def __init__(self, env, alpha, beta, gamma=0.99, layer1_size=1024, layer2_size=512):\n",
    "        self.env = env\n",
    "        self.n_states = env.observation_space.shape[0]\n",
    "        self.n_actions = env.action_space.n\n",
    "        self.alpha = alpha\n",
    "        self.beta = beta\n",
    "        self.gamma = gamma\n",
    "        self.layer1_size = layer1_size\n",
    "        self.layer2_size = layer2_size\n",
    "    \n",
    "        self.actor, self.critic, self.policy = self.build_actor_critic_network()\n",
    "        \n",
    "    def build_actor_critic_network(self):\n",
    "        inputs = Input(shape=(self.n_states,))\n",
    "        delta = Input(shape=[1])\n",
    "        dense1 = Dense(self.layer1_size, activation='relu')(inputs)\n",
    "        dense2 = Dense(self.layer2_size, activation='relu')(dense1)\n",
    "        probs = Dense(self.n_actions, activation='softmax')(dense2)\n",
    "        values = Dense(1, activation=None)(dense2)\n",
    "        \n",
    "        def custom_loss(y_true, y_pred):\n",
    "            y_pred_clip = K.clip(y_pred, 1e-8, 1-1e-8)\n",
    "            log_lik = y_true * K.log(y_pred_clip)\n",
    "            return K.sum(-log_lik * delta)\n",
    "        \n",
    "        actor = Model(inputs=[inputs, delta], outputs=[probs])\n",
    "        actor.compile(optimizer=Adam(lr=self.alpha), loss=custom_loss)\n",
    "        \n",
    "        critic = Model(inputs=[inputs], outputs=[values])\n",
    "        critic.compile(optimizer=Adam(lr=self.beta), loss='mse')\n",
    "        \n",
    "        # When we choose an action from the actor we do not need to add input from the critic (delta)\n",
    "        # no compile because we arn't doing any back prop on it. Shares weights with actor and critic\n",
    "        policy = Model(inputs=[inputs], outputs=[probs]) \n",
    "        \n",
    "        return actor, critic, policy\n",
    "    \n",
    "    def choose_action(self, observation):\n",
    "        observation = np.expand_dims(observation, axis=0)\n",
    "        probabilities = self.policy.predict(observation).flatten()\n",
    "        action = np.random.choice(range(self.n_actions), p=probabilities)\n",
    "        return action\n",
    "    \n",
    "    def learn(self, observation, action , reward, next_observation, done):\n",
    "        observation = np.expand_dims(observation, axis=0)\n",
    "        next_observation = np.expand_dims(next_observation, axis=0)\n",
    "        critic_state_value = self.critic.predict(observation)\n",
    "        critic_next_state_value = self.critic.predict(next_observation)\n",
    "        target = reward + self.gamma * critic_next_state_value * (1 - done)\n",
    "        delta = target - critic_state_value\n",
    "        \n",
    "        actions = np.zeros([1, self.n_actions])\n",
    "        actions[:, action] = 1\n",
    "        \n",
    "        self.actor.fit([observation, delta], actions, verbose=0)\n",
    "        self.critic.fit(observation, target, verbose=0)      "
   ]
  },
  {
   "cell_type": "code",
   "execution_count": 4,
   "metadata": {},
   "outputs": [],
   "source": [
    "tf.compat.v1.disable_eager_execution()\n",
    "\n",
    "# env_name = 'CartPole-v0' #DONE\n",
    "# env_name = 'MountainCar-v0' #DONE\n",
    "# env_name = 'MountainCarContinuous-v0'\n",
    "# env_name = 'Acrobot-v1' # DONE\n",
    "# env_name = 'Pendulum-v0' #DONE\n",
    "env_name = 'LunarLander-v2' #Done\n",
    "env = gym.make(env_name)\n",
    "\n",
    "agent = Agent(env=env, alpha=1e-4, beta=5e-4, gamma=0.99, layer1_size=1024, layer2_size=512)"
   ]
  },
  {
   "cell_type": "code",
   "execution_count": 36,
   "metadata": {
    "scrolled": true
   },
   "outputs": [
    {
     "name": "stdout",
     "output_type": "stream",
     "text": [
      "episode: 1917 score: 256.49 average_score: 240, [267.38835665517456, 262.082558519252, 273.41626497417246, 272.6871989697345, 262.8394117160609, 300.5904801846806, 320.79300891494154, 238.37307058907905, 281.6006892891412, 256.4904497936002]5]]]]]]]\r"
     ]
    }
   ],
   "source": [
    "highscores = [0]\n",
    "\n",
    "n_games = 1000\n",
    "# for i in range(n_games):\n",
    "i = -1\n",
    "while np.mean(highscores[-100:]) < 240:\n",
    "    i += 1\n",
    "    done = False\n",
    "    score = 0\n",
    "    observation = env.reset()\n",
    "\n",
    "    while not done:\n",
    "        action = agent.choose_action(observation)\n",
    "        next_observation, reward, done, info = env.step(action)\n",
    "        #reward += (abs(next_observation[0]) + 0.3)**2 / 100 # Mountain car exploration\n",
    "        agent.learn(observation, action, reward, next_observation, done)\n",
    "        observation = next_observation\n",
    "        score += reward\n",
    "        \n",
    "    highscores.append(score)\n",
    "\n",
    "    avg_score = np.mean(highscores[-100:])\n",
    "    print(f'episode: {i} score: {round(score, 2)} ' \n",
    "          f'average_score: {round(avg_score)}, {highscores[-10:]}'\n",
    "          , end=\"\\r\", flush=False)"
   ]
  },
  {
   "cell_type": "code",
   "execution_count": 37,
   "metadata": {},
   "outputs": [
    {
     "data": {
      "text/plain": [
       "<matplotlib.axes._subplots.AxesSubplot at 0x20784b7f408>"
      ]
     },
     "execution_count": 37,
     "metadata": {},
     "output_type": "execute_result"
    },
    {
     "data": {
      "image/png": "[encoded data removed]",
      "text/plain": [
       "<Figure size 432x288 with 1 Axes>"
      ]
     },
     "metadata": {
      "needs_background": "light"
     },
     "output_type": "display_data"
    }
   ],
   "source": [
    "pd.Series(highscores).rolling(min_periods=1, window=100).mean().plot()"
   ]
  },
  {
   "cell_type": "code",
   "execution_count": 48,
   "metadata": {},
   "outputs": [
    {
     "data": {
      "text/plain": [
       "([296.65767195162096], 296.65767195162096)"
      ]
     },
     "execution_count": 48,
     "metadata": {},
     "output_type": "execute_result"
    }
   ],
   "source": [
    "test_highscores = []\n",
    "\n",
    "for i in range(1):\n",
    "    done = False\n",
    "    score = 0\n",
    "    observation = env.reset()\n",
    "    \n",
    "    while not done:\n",
    "        env.render()\n",
    "        action = agent.choose_action(observation)\n",
    "        next_observation, reward, done, info = env.step(action)\n",
    "        observation = next_observation\n",
    "        score += reward\n",
    "        \n",
    "    test_highscores.append(score)\n",
    "    \n",
    "env.close()\n",
    "test_highscores, np.mean(test_highscores)"
   ]
  },
  {
   "cell_type": "code",
   "execution_count": null,
   "metadata": {},
   "outputs": [],
   "source": []
  }
 ],
 "metadata": {
  "kernelspec": {
   "display_name": "Python 3",
   "language": "python",
   "name": "python3"
  },
  "language_info": {
   "codemirror_mode": {
    "name": "ipython",
    "version": 3
   },
   "file_extension": ".py",
   "mimetype": "text/x-python",
   "name": "python",
   "nbconvert_exporter": "python",
   "pygments_lexer": "ipython3",
   "version": "3.7.4"
  }
 },
 "nbformat": 4,
 "nbformat_minor": 2
}
