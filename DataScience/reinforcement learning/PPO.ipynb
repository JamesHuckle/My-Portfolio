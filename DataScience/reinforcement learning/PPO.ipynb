{
 "cells": [
  {
   "cell_type": "code",
   "execution_count": 30,
   "metadata": {},
   "outputs": [],
   "source": [
    "import tensorflow as tf\n",
    "from tensorflow.keras import backend as K\n",
    "from tensorflow.keras.layers import Dense, Input\n",
    "from tensorflow.keras import Model\n",
    "from tensorflow.keras.optimizers import Adam\n",
    "import numpy as np\n",
    "import pandas as pd\n",
    "\n",
    "import gym\n",
    "\n",
    "import matplotlib.pyplot as plt\n",
    "%matplotlib inline"
   ]
  },
  {
   "cell_type": "code",
   "execution_count": 31,
   "metadata": {},
   "outputs": [],
   "source": [
    "class Agent():\n",
    "    def __init__(self, env, alpha, beta, epochs=5, epsilon=0.2, entropy_loss=5e-3, gamma=0.99,\n",
    "                 layer1_size=1024, layer2_size=512):\n",
    "        self.env = env\n",
    "        self.n_states = env.observation_space.shape[0]\n",
    "        self.n_actions = env.action_space.n\n",
    "        self.alpha = alpha\n",
    "        self.beta = beta\n",
    "        self.epochs = epochs\n",
    "        self.epsilon = epsilon\n",
    "        self.entropy_loss = entropy_loss\n",
    "        self.gamma = gamma\n",
    "        self.layer1_size = layer1_size\n",
    "        self.layer2_size = layer2_size\n",
    "    \n",
    "        self.actor, self.critic, self.policy = self.build_actor_critic_network()\n",
    "        self.clear_replay_buffer()\n",
    "        \n",
    "    def build_actor_critic_network(self):\n",
    "        inputs = Input(shape=(self.n_states,))\n",
    "        advantage = Input(shape=[1])\n",
    "        old_policy = Input(shape=[self.n_actions])\n",
    "        dense1 = Dense(self.layer1_size, activation='relu')(inputs)\n",
    "        dense2 = Dense(self.layer2_size, activation='relu')(dense1)\n",
    "        probs = Dense(self.n_actions, activation='softmax')(dense2)\n",
    "        values = Dense(1, activation=None)(dense2)\n",
    "        \n",
    "        def custom_loss(y_true, y_pred):\n",
    "            prob = K.sum(y_true * y_pred, axis=1)\n",
    "            old_prob = K.sum(y_true * old_policy, axis=1)\n",
    "            r_theta = prob / (old_prob + 1e-10)\n",
    "            unclip_obj = r_theta * advantage\n",
    "            clip_obj = K.clip(r_theta, 1 - self.epsilon, 1 + self.epsilon) * advantage\n",
    "            entropy = self.entropy_loss * -(prob * K.log(prob + 1e-10))\n",
    "            actor_loss = -K.mean(K.minimum(unclip_obj, clip_obj) + entropy)\n",
    "            return actor_loss\n",
    "        \n",
    "        actor = Model(inputs=[inputs, advantage, old_policy], outputs=[probs])\n",
    "        actor.compile(optimizer=Adam(lr=self.alpha), loss=custom_loss)\n",
    "        \n",
    "        critic = Model(inputs=[inputs], outputs=[values])\n",
    "        critic.compile(optimizer=Adam(lr=self.beta), loss='mse')\n",
    "        \n",
    "        # When we choose an action from the actor we do not need to add an input from the critic (delta)\n",
    "        # no compile because we arn't doing any back prop on it. Shares weights with actor and critic\n",
    "        policy = Model(inputs=[inputs], outputs=[probs]) \n",
    "        \n",
    "        return actor, critic, policy\n",
    "    \n",
    "    def clear_replay_buffer(self):\n",
    "        self.actions = []\n",
    "        self.probs = []\n",
    "        self.states = []\n",
    "        self.rewards = []\n",
    "        self.next_states = [] \n",
    "        self.dones = []\n",
    "        \n",
    "    def add_to_replay_buffer(self, action, prob, state, reward, next_state, done):\n",
    "        self.actions.append(action)\n",
    "        self.probs.append(prob)\n",
    "        self.states.append(state)\n",
    "        self.rewards.append(reward)\n",
    "        self.next_states.append(next_state)   \n",
    "        self.dones.append(done)\n",
    "        \n",
    "    def get_batch_from_replay_buffer(self):\n",
    "        idx = list(range(len(self.actions)))\n",
    "        np.random.shuffle(idx)\n",
    "        actions = np.array(self.actions)[idx]\n",
    "        probs = np.array(self.probs)[idx]\n",
    "        states = np.array(self.states)[idx]\n",
    "        rewards = np.array(self.rewards)[idx]\n",
    "        next_states = np.array(self.next_states)[idx]\n",
    "        dones = np.array(self.dones)[idx]\n",
    "        return actions, probs, states, rewards, next_states, dones\n",
    "        \n",
    "    def choose_action(self, observation):\n",
    "        observation = np.expand_dims(observation, axis=0)\n",
    "        probs = self.policy.predict(observation).flatten()\n",
    "        action = np.random.choice(range(self.n_actions), p=probs)\n",
    "        return action, probs\n",
    "    \n",
    "    def learn_from_replay_buffer(self):\n",
    "        actions, probs, states, rewards, next_states, dones = self.get_batch_from_replay_buffer()\n",
    "\n",
    "        critic_state_values = self.critic.predict(np.vstack(states)).flatten()\n",
    "        critic_next_state_values = self.critic.predict(np.vstack(next_states)).flatten()\n",
    "        \n",
    "        targets = rewards + self.gamma * critic_next_state_values * (1 - dones)\n",
    "        advantages = targets - critic_state_values\n",
    "        \n",
    "        one_hot_actions = np.zeros((actions.shape[0], self.n_actions))\n",
    "        one_hot_actions[range(actions.shape[0]), actions] = 1\n",
    "         \n",
    "        self.actor.fit([np.vstack(states), np.vstack(advantages), np.vstack(probs)], one_hot_actions,\n",
    "                       epochs=self.epochs, verbose=0)\n",
    "        self.critic.fit(np.vstack(states), np.vstack(targets), epochs=self.epochs , verbose=0)    \n",
    "        self.clear_replay_buffer()"
   ]
  },
  {
   "cell_type": "code",
   "execution_count": 133,
   "metadata": {},
   "outputs": [],
   "source": [
    "tf.compat.v1.disable_eager_execution()\n",
    "\n",
    "# env_name = 'CartPole-v0' #DONE\n",
    "# env_name = 'MountainCar-v0' #DONE\n",
    "# env_name = 'MountainCarContinuous-v0'\n",
    "# env_name = 'Acrobot-v1' # DONE\n",
    "# env_name = 'Pendulum-v0' #DONE\n",
    "env_name = 'LunarLander-v2' #Done\n",
    "env = gym.make(env_name)\n",
    "\n",
    "agent = Agent(env=env, alpha=1e-4, beta=9e-4, epochs=5, epsilon=0.2, entropy_loss=0, gamma=0.99,\n",
    "                 layer1_size=1024, layer2_size=512)"
   ]
  },
  {
   "cell_type": "code",
   "execution_count": null,
   "metadata": {
    "scrolled": true
   },
   "outputs": [
    {
     "name": "stdout",
     "output_type": "stream",
     "text": [
      "episode: 4545 score: 148.32 average_score: -35.000\r"
     ]
    }
   ],
   "source": [
    "highscores = [0]\n",
    "ep = 0\n",
    "it = 0\n",
    "\n",
    "#n_games = 1000\n",
    "# for ep in range(n_games):\n",
    "while np.mean(highscores[-100:]) <= 280:\n",
    "    done = False\n",
    "    score = 0\n",
    "    observation = env.reset()\n",
    "    \n",
    "    while not done:\n",
    "        it += 1\n",
    "        action, prob = agent.choose_action(observation)\n",
    "        next_observation, reward, done, info = env.step(action)\n",
    "        #reward += (abs(next_observation[0]) + 0.3)**2 / 100 # Mountain car exploration\n",
    "        agent.add_to_replay_buffer(action, prob, observation, reward, next_observation, done)\n",
    "        observation = next_observation\n",
    "        score += reward\n",
    "\n",
    "        if it == 128:\n",
    "            agent.learn_from_replay_buffer() \n",
    "            it = 0\n",
    "        \n",
    "    highscores.append(score)\n",
    "    avg_score = np.mean(highscores[-100:])\n",
    "    print(f'episode: {ep} score: {round(score, 2)} average_score: {round(avg_score)}', end=\"\\r\", flush=False, file=open('result.txt','a+'))\n",
    "    print(f'episode: {ep} score: {round(score, 2)} average_score: {round(avg_score)}', end=\"\\r\", flush=False)\n",
    "    ep += 1"
   ]
  },
  {
   "cell_type": "code",
   "execution_count": 132,
   "metadata": {},
   "outputs": [
    {
     "data": {
      "text/plain": [
       "<matplotlib.axes._subplots.AxesSubplot at 0x1eefa56fe48>"
      ]
     },
     "execution_count": 132,
     "metadata": {},
     "output_type": "execute_result"
    },
    {
     "data": {
      "image/png": "[encoded data removed]",
      "text/plain": [
       "<Figure size 432x288 with 1 Axes>"
      ]
     },
     "metadata": {
      "needs_background": "light"
     },
     "output_type": "display_data"
    }
   ],
   "source": [
    "pd.Series(highscores).rolling(min_periods=1, window=100).mean().plot()"
   ]
  },
  {
   "cell_type": "code",
   "execution_count": 6,
   "metadata": {},
   "outputs": [
    {
     "data": {
      "text/plain": [
       "([251.06579009678725,\n",
       "  292.2316464021079,\n",
       "  -45.19972830457547,\n",
       "  242.6901921898479,\n",
       "  277.8522722516825],\n",
       " 203.72803452717002)"
      ]
     },
     "execution_count": 6,
     "metadata": {},
     "output_type": "execute_result"
    }
   ],
   "source": [
    "test_highscores = []\n",
    "\n",
    "for i in range(5):\n",
    "    done = False\n",
    "    score = 0\n",
    "    observation = env.reset()\n",
    "    \n",
    "    while not done:\n",
    "        env.render()\n",
    "        action, prob = agent.choose_action(observation)\n",
    "        next_observation, reward, done, info = env.step(action)\n",
    "        observation = next_observation\n",
    "        score += reward\n",
    "        \n",
    "    test_highscores.append(score)\n",
    "    \n",
    "env.close()\n",
    "test_highscores, np.mean(test_highscores)"
   ]
  },
  {
   "cell_type": "code",
   "execution_count": null,
   "metadata": {},
   "outputs": [],
   "source": []
  }
 ],
 "metadata": {
  "kernelspec": {
   "display_name": "Python 3",
   "language": "python",
   "name": "python3"
  },
  "language_info": {
   "codemirror_mode": {
    "name": "ipython",
    "version": 3
   },
   "file_extension": ".py",
   "mimetype": "text/x-python",
   "name": "python",
   "nbconvert_exporter": "python",
   "pygments_lexer": "ipython3",
   "version": "3.7.4"
  }
 },
 "nbformat": 4,
 "nbformat_minor": 2
}
